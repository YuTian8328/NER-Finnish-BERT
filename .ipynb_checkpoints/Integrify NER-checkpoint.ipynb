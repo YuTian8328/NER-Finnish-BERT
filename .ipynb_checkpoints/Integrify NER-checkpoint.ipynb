{
 "cells": [
  {
   "cell_type": "markdown",
   "metadata": {
    "id": "sUE8nsVXZxkh"
   },
   "source": [
    "#Set up"
   ]
  },
  {
   "cell_type": "code",
   "execution_count": 4,
   "metadata": {
    "colab": {
     "base_uri": "https://localhost:8080/",
     "height": 626
    },
    "executionInfo": {
     "elapsed": 8640,
     "status": "ok",
     "timestamp": 1603030470836,
     "user": {
      "displayName": "Yu Tian",
      "photoUrl": "",
      "userId": "08466120098552862127"
     },
     "user_tz": -180
    },
    "id": "hyJtrROO86p6",
    "outputId": "51eb6565-da02-42a0-d32f-a65dede7753f"
   },
   "outputs": [
    {
     "name": "stdout",
     "output_type": "stream",
     "text": [
      "Collecting transformers\n",
      "\u001b[?25l  Downloading https://files.pythonhosted.org/packages/19/22/aff234f4a841f8999e68a7a94bdd4b60b4cebcfeca5d67d61cd08c9179de/transformers-3.3.1-py3-none-any.whl (1.1MB)\n",
      "\u001b[K     |████████████████████████████████| 1.1MB 7.3MB/s \n",
      "\u001b[?25hCollecting sentencepiece!=0.1.92\n",
      "\u001b[?25l  Downloading https://files.pythonhosted.org/packages/d4/a4/d0a884c4300004a78cca907a6ff9a5e9fe4f090f5d95ab341c53d28cbc58/sentencepiece-0.1.91-cp36-cp36m-manylinux1_x86_64.whl (1.1MB)\n",
      "\u001b[K     |████████████████████████████████| 1.1MB 19.9MB/s \n",
      "\u001b[?25hRequirement already satisfied: dataclasses; python_version < \"3.7\" in /usr/local/lib/python3.6/dist-packages (from transformers) (0.7)\n",
      "Collecting sacremoses\n",
      "\u001b[?25l  Downloading https://files.pythonhosted.org/packages/7d/34/09d19aff26edcc8eb2a01bed8e98f13a1537005d31e95233fd48216eed10/sacremoses-0.0.43.tar.gz (883kB)\n",
      "\u001b[K     |████████████████████████████████| 890kB 34.6MB/s \n",
      "\u001b[?25hRequirement already satisfied: packaging in /usr/local/lib/python3.6/dist-packages (from transformers) (20.4)\n",
      "Requirement already satisfied: tqdm>=4.27 in /usr/local/lib/python3.6/dist-packages (from transformers) (4.41.1)\n",
      "Collecting tokenizers==0.8.1.rc2\n",
      "\u001b[?25l  Downloading https://files.pythonhosted.org/packages/80/83/8b9fccb9e48eeb575ee19179e2bdde0ee9a1904f97de5f02d19016b8804f/tokenizers-0.8.1rc2-cp36-cp36m-manylinux1_x86_64.whl (3.0MB)\n",
      "\u001b[K     |████████████████████████████████| 3.0MB 42.3MB/s \n",
      "\u001b[?25hRequirement already satisfied: regex!=2019.12.17 in /usr/local/lib/python3.6/dist-packages (from transformers) (2019.12.20)\n",
      "Requirement already satisfied: numpy in /usr/local/lib/python3.6/dist-packages (from transformers) (1.18.5)\n",
      "Requirement already satisfied: filelock in /usr/local/lib/python3.6/dist-packages (from transformers) (3.0.12)\n",
      "Requirement already satisfied: requests in /usr/local/lib/python3.6/dist-packages (from transformers) (2.23.0)\n",
      "Requirement already satisfied: six in /usr/local/lib/python3.6/dist-packages (from sacremoses->transformers) (1.15.0)\n",
      "Requirement already satisfied: click in /usr/local/lib/python3.6/dist-packages (from sacremoses->transformers) (7.1.2)\n",
      "Requirement already satisfied: joblib in /usr/local/lib/python3.6/dist-packages (from sacremoses->transformers) (0.16.0)\n",
      "Requirement already satisfied: pyparsing>=2.0.2 in /usr/local/lib/python3.6/dist-packages (from packaging->transformers) (2.4.7)\n",
      "Requirement already satisfied: urllib3!=1.25.0,!=1.25.1,<1.26,>=1.21.1 in /usr/local/lib/python3.6/dist-packages (from requests->transformers) (1.24.3)\n",
      "Requirement already satisfied: certifi>=2017.4.17 in /usr/local/lib/python3.6/dist-packages (from requests->transformers) (2020.6.20)\n",
      "Requirement already satisfied: chardet<4,>=3.0.2 in /usr/local/lib/python3.6/dist-packages (from requests->transformers) (3.0.4)\n",
      "Requirement already satisfied: idna<3,>=2.5 in /usr/local/lib/python3.6/dist-packages (from requests->transformers) (2.10)\n",
      "Building wheels for collected packages: sacremoses\n",
      "  Building wheel for sacremoses (setup.py) ... \u001b[?25l\u001b[?25hdone\n",
      "  Created wheel for sacremoses: filename=sacremoses-0.0.43-cp36-none-any.whl size=893257 sha256=11f50ff3f8a81c44cccd68b21ec8e184669c384b84d0eabac80a116a8011ac0f\n",
      "  Stored in directory: /root/.cache/pip/wheels/29/3c/fd/7ce5c3f0666dab31a50123635e6fb5e19ceb42ce38d4e58f45\n",
      "Successfully built sacremoses\n",
      "Installing collected packages: sentencepiece, sacremoses, tokenizers, transformers\n",
      "Successfully installed sacremoses-0.0.43 sentencepiece-0.1.91 tokenizers-0.8.1rc2 transformers-3.3.1\n"
     ]
    }
   ],
   "source": [
    "!pip install transformers"
   ]
  },
  {
   "cell_type": "code",
   "execution_count": null,
   "metadata": {
    "colab": {
     "base_uri": "https://localhost:8080/",
     "height": 33
    },
    "executionInfo": {
     "elapsed": 28967,
     "status": "ok",
     "timestamp": 1602945746537,
     "user": {
      "displayName": "Yu Tian",
      "photoUrl": "",
      "userId": "08466120098552862127"
     },
     "user_tz": -180
    },
    "id": "8A8i6WWx9RQb",
    "outputId": "d5a4c223-8be7-43fe-95ed-35a171fa96f0"
   },
   "outputs": [
    {
     "name": "stdout",
     "output_type": "stream",
     "text": [
      "Mounted at /content/drive\n"
     ]
    }
   ],
   "source": [
    "from google.colab import drive\n",
    "drive.mount('/content/drive')"
   ]
  },
  {
   "cell_type": "markdown",
   "metadata": {
    "id": "MYVTW6DJ8gXz"
   },
   "source": [
    "# NER & Extraction from product-data\n",
    "\n",
    "The project is to regognize & extract Named Entities (https://en.wikipedia.org/wiki/Named-entity_recognition) from several fields on the corpus. \n",
    "\n",
    "Corpus comes as is, so it's up to the data-scientist to decide how to label the data & train the model. There are 119 unique providers which describe their products in a certain way. This helps the labelling process as one can see below.\n",
    "\n",
    "Suggested NE's are (at least, depends on the row-data): `BRAND`, `SIZE`, `COLOR`, `SIZE`, `WEIGHT`, etc."
   ]
  },
  {
   "cell_type": "code",
   "execution_count": 2,
   "metadata": {
    "colab": {
     "base_uri": "https://localhost:8080/",
     "height": 34
    },
    "executionInfo": {
     "elapsed": 687,
     "status": "ok",
     "timestamp": 1602947588200,
     "user": {
      "displayName": "Yu Tian",
      "photoUrl": "",
      "userId": "08466120098552862127"
     },
     "user_tz": -180
    },
    "id": "8h_KScLC-jmN",
    "outputId": "0fafe114-1154-4703-a022-9aeff6823e31"
   },
   "outputs": [
    {
     "name": "stdout",
     "output_type": "stream",
     "text": [
      "/content/drive/My Drive/ner\n"
     ]
    }
   ],
   "source": [
    "cd /content/drive/My Drive/ner"
   ]
  },
  {
   "cell_type": "code",
   "execution_count": null,
   "metadata": {
    "id": "vFejWKO9WOJe"
   },
   "outputs": [],
   "source": [
    "\n",
    "indexed_tokens = tokenizer.convert_tokens_to_ids(tokenized_text)\n",
    "\n",
    "segments_ids = [1] * len(tokenized_text)\n",
    "print(segments_ids)\n",
    "\n",
    "indexed_tokens\n",
    "\n",
    "import torch"
   ]
  },
  {
   "cell_type": "code",
   "execution_count": null,
   "metadata": {
    "id": "Sis2HUKKWSvU"
   },
   "outputs": [],
   "source": [
    "\n",
    "\n",
    "tokens_tensor = torch.tensor([indexed_tokens])\n",
    "segments_tensors = torch.tensor([segments_ids])\n",
    "\n",
    "from transformers import BertModel\n",
    "model = BertModel.from_pretrained(\"TurkuNLP/bert-base-finnish-uncased-v1\", output_hidden_states = True)\n",
    "\n",
    "\n",
    "with torch.no_grad():\n",
    "    outputs = model(tokens_tensor, segments_tensors)\n",
    "\n",
    "hidden_states = outputs[2]\n",
    "\n",
    "hidden_states[0].shape"
   ]
  },
  {
   "cell_type": "code",
   "execution_count": 6,
   "metadata": {
    "executionInfo": {
     "elapsed": 1269,
     "status": "ok",
     "timestamp": 1603030512984,
     "user": {
      "displayName": "Yu Tian",
      "photoUrl": "",
      "userId": "08466120098552862127"
     },
     "user_tz": -180
    },
    "id": "5AZPoTWqZrgH"
   },
   "outputs": [],
   "source": [
    "\n",
    "\n",
    "from transformers import BertTokenizer"
   ]
  },
  {
   "cell_type": "code",
   "execution_count": 6,
   "metadata": {
    "executionInfo": {
     "elapsed": 884,
     "status": "ok",
     "timestamp": 1603019500882,
     "user": {
      "displayName": "Yu Tian",
      "photoUrl": "",
      "userId": "08466120098552862127"
     },
     "user_tz": -180
    },
    "id": "JLPdGg1GZqy9"
   },
   "outputs": [],
   "source": [
    "\n",
    "\n",
    "from transformers import BertTokenizer, BertForTokenClassification\n"
   ]
  },
  {
   "cell_type": "code",
   "execution_count": 7,
   "metadata": {
    "colab": {
     "base_uri": "https://localhost:8080/",
     "height": 66,
     "referenced_widgets": [
      "8c8f06046c094a9b85844d37422a92fe",
      "7ae2deaa1d2c49b7858d82f4ab4989b4",
      "42f9156f47564c038edd9a5271d81601",
      "58a8fdd895604f089f2aa3f9ba558027",
      "ac81cb63c45f403f9b033b3a1ca5c0fd",
      "efaa309dcdf94072be5bdfce5547e20a",
      "b944d050d1cf41c68ff0f02df25458f6",
      "24c0c3ce761345af8ff046366ec98aa2"
     ]
    },
    "executionInfo": {
     "elapsed": 3801,
     "status": "ok",
     "timestamp": 1603030517635,
     "user": {
      "displayName": "Yu Tian",
      "photoUrl": "",
      "userId": "08466120098552862127"
     },
     "user_tz": -180
    },
    "id": "PkKMPPRzZisv",
    "outputId": "d0022bc1-a5c0-45aa-ff38-7c610a0850a6"
   },
   "outputs": [
    {
     "data": {
      "application/vnd.jupyter.widget-view+json": {
       "model_id": "8c8f06046c094a9b85844d37422a92fe",
       "version_major": 2,
       "version_minor": 0
      },
      "text/plain": [
       "HBox(children=(FloatProgress(value=0.0, description='Downloading', max=427471.0, style=ProgressStyle(descripti…"
      ]
     },
     "metadata": {
      "tags": []
     },
     "output_type": "display_data"
    },
    {
     "name": "stdout",
     "output_type": "stream",
     "text": [
      "\n"
     ]
    }
   ],
   "source": [
    "\n",
    "tokenizer = BertTokenizer.from_pretrained('TurkuNLP/bert-base-finnish-uncased-v1')\n",
    "# >>> model = BertOnlyForSequenceTagging.from_pretrained('bert-base-uncased', return_dict=True)\n"
   ]
  },
  {
   "cell_type": "code",
   "execution_count": 12,
   "metadata": {
    "colab": {
     "base_uri": "https://localhost:8080/",
     "height": 710
    },
    "executionInfo": {
     "elapsed": 983,
     "status": "ok",
     "timestamp": 1603030637601,
     "user": {
      "displayName": "Yu Tian",
      "photoUrl": "",
      "userId": "08466120098552862127"
     },
     "user_tz": -180
    },
    "id": "tEmK2kc6DuXU",
    "outputId": "8fdd1fe0-86ba-4e0e-918a-bb65304c11a2"
   },
   "outputs": [
    {
     "data": {
      "text/plain": [
       "['sp',\n",
       " 'pes',\n",
       " '##ny',\n",
       " '##vallan',\n",
       " 'kasva',\n",
       " '##omaan',\n",
       " 'onhan',\n",
       " 'paper',\n",
       " '&',\n",
       " 'joutuu',\n",
       " 'tarvitta',\n",
       " 'muutenkin',\n",
       " 'tilaa',\n",
       " 'jeesus',\n",
       " '##ssin',\n",
       " 'elaa',\n",
       " 'uni',\n",
       " '##muut',\n",
       " '##ali',\n",
       " 'ros',\n",
       " 'aloitta',\n",
       " '##lannin',\n",
       " 'energia',\n",
       " 'kunni',\n",
       " 'yhtion',\n",
       " 'vaale',\n",
       " 'maali',\n",
       " 'ly',\n",
       " '##lissa',\n",
       " 'varsina',\n",
       " '##tuneet',\n",
       " 'paassa',\n",
       " 'vahintaan',\n",
       " 'loukkaan',\n",
       " 'historia',\n",
       " 'jalj',\n",
       " 'saatu',\n",
       " 'helppo',\n",
       " '##oitu',\n",
       " 'sala']"
      ]
     },
     "execution_count": 12,
     "metadata": {
      "tags": []
     },
     "output_type": "execute_result"
    }
   ],
   "source": [
    "#Some examples of the tokens contained in the FinBert vocabulary.\n",
    "list(tokenizer.vocab.keys())[3000:3040]"
   ]
  },
  {
   "cell_type": "code",
   "execution_count": 10,
   "metadata": {
    "colab": {
     "base_uri": "https://localhost:8080/",
     "height": 658
    },
    "executionInfo": {
     "elapsed": 757,
     "status": "ok",
     "timestamp": 1603019585765,
     "user": {
      "displayName": "Yu Tian",
      "photoUrl": "",
      "userId": "08466120098552862127"
     },
     "user_tz": -180
    },
    "id": "ysD9gOOpaaFL",
    "outputId": "6ed7f3b4-0daa-4616-b04c-bfd56881a3db"
   },
   "outputs": [
    {
     "name": "stderr",
     "output_type": "stream",
     "text": [
      "Keyword arguments {'return_tensors': 'pt'} not recognized.\n"
     ]
    },
    {
     "data": {
      "text/plain": [
       "['punainen',\n",
       " 'emil',\n",
       " '##io',\n",
       " 'pu',\n",
       " '##cc',\n",
       " '##i',\n",
       " 'ep',\n",
       " '##50',\n",
       " '##6',\n",
       " '##7',\n",
       " 'silmalasit',\n",
       " '.',\n",
       " 'colle',\n",
       " '##ction',\n",
       " ':',\n",
       " 'wo',\n",
       " '##men',\n",
       " '.',\n",
       " 'keh',\n",
       " '##yksen',\n",
       " 'vari',\n",
       " ':',\n",
       " 'tor',\n",
       " '##toi',\n",
       " '##se',\n",
       " '.',\n",
       " 'kehys',\n",
       " '##materiaali',\n",
       " ':',\n",
       " 'plasti',\n",
       " '##c',\n",
       " '.',\n",
       " 'koko',\n",
       " ':',\n",
       " '53',\n",
       " '.']"
      ]
     },
     "execution_count": 10,
     "metadata": {
      "tags": []
     },
     "output_type": "execute_result"
    }
   ],
   "source": [
    "tokenizer.tokenize(\"Punainen Emilio Pucci EP5067 Silmälasit. Collection:Women. \\\n",
    "Kehyksen Väri: Tortoise. Kehysmateriaali: Plastic. Koko: 53.\", return_tensors=\"pt\")"
   ]
  },
  {
   "cell_type": "code",
   "execution_count": null,
   "metadata": {
    "id": "yaqZl8vRZkbi"
   },
   "outputs": [],
   "source": [
    "\n",
    ">>> inputs = tokenizer(\"Hello, my dog is cute\", return_tensors=\"pt\")\n",
    ">>> labels = torch.tensor([1] * inputs[\"input_ids\"].size(1)).unsqueeze(0)  # Batch size 1\n",
    "\n",
    ">>> outputs = model(**inputs, labels=labels)\n",
    ">>> loss = outputs.loss\n",
    ">>> logits = outputs.logits"
   ]
  },
  {
   "cell_type": "markdown",
   "metadata": {
    "id": "UhHWELZu9FrW"
   },
   "source": [
    "#training"
   ]
  },
  {
   "cell_type": "code",
   "execution_count": 8,
   "metadata": {
    "colab": {
     "base_uri": "https://localhost:8080/",
     "height": 505
    },
    "executionInfo": {
     "elapsed": 119977,
     "status": "ok",
     "timestamp": 1602948326076,
     "user": {
      "displayName": "Yu Tian",
      "photoUrl": "",
      "userId": "08466120098552862127"
     },
     "user_tz": -180
    },
    "id": "Bku1g1ZB8t4l",
    "outputId": "64a398a4-afa3-40c3-a81c-ff96ffe76b29"
   },
   "outputs": [
    {
     "name": "stderr",
     "output_type": "stream",
     "text": [
      "100%|██████████| 6/6 [00:00<00:00,  7.83it/s]\n",
      "100%|██████████| 2/2 [00:00<00:00, 14.96it/s]\n"
     ]
    },
    {
     "name": "stdout",
     "output_type": "stream",
     "text": [
      "Train loss 1.7467946112155914 Valid Loss =0.9277085065841675\n"
     ]
    },
    {
     "name": "stderr",
     "output_type": "stream",
     "text": [
      "100%|██████████| 6/6 [00:00<00:00,  6.96it/s]\n",
      "100%|██████████| 2/2 [00:00<00:00, 13.93it/s]\n"
     ]
    },
    {
     "name": "stdout",
     "output_type": "stream",
     "text": [
      "Train loss 0.9741204480330149 Valid Loss =0.8599960803985596\n"
     ]
    },
    {
     "name": "stderr",
     "output_type": "stream",
     "text": [
      "100%|██████████| 6/6 [00:00<00:00,  7.19it/s]\n",
      "100%|██████████| 2/2 [00:00<00:00, 13.80it/s]\n"
     ]
    },
    {
     "name": "stdout",
     "output_type": "stream",
     "text": [
      "Train loss 0.8378353516260783 Valid Loss =0.7888053357601166\n"
     ]
    },
    {
     "name": "stderr",
     "output_type": "stream",
     "text": [
      "100%|██████████| 6/6 [00:00<00:00,  7.48it/s]\n",
      "100%|██████████| 2/2 [00:00<00:00, 13.58it/s]\n"
     ]
    },
    {
     "name": "stdout",
     "output_type": "stream",
     "text": [
      "Train loss 0.7413434584935507 Valid Loss =0.7161822319030762\n"
     ]
    },
    {
     "name": "stderr",
     "output_type": "stream",
     "text": [
      "100%|██████████| 6/6 [00:00<00:00,  7.29it/s]\n",
      "100%|██████████| 2/2 [00:00<00:00, 13.25it/s]\n"
     ]
    },
    {
     "name": "stdout",
     "output_type": "stream",
     "text": [
      "Train loss 0.6388148069381714 Valid Loss =0.6847268044948578\n"
     ]
    },
    {
     "name": "stderr",
     "output_type": "stream",
     "text": [
      "100%|██████████| 6/6 [00:00<00:00,  7.43it/s]\n",
      "100%|██████████| 2/2 [00:00<00:00, 13.99it/s]\n"
     ]
    },
    {
     "name": "stdout",
     "output_type": "stream",
     "text": [
      "Train loss 0.5251762916644415 Valid Loss =0.6465043723583221\n"
     ]
    },
    {
     "name": "stderr",
     "output_type": "stream",
     "text": [
      "100%|██████████| 6/6 [00:00<00:00,  7.51it/s]\n",
      "100%|██████████| 2/2 [00:00<00:00, 13.99it/s]\n",
      "  0%|          | 0/6 [00:00<?, ?it/s]"
     ]
    },
    {
     "name": "stdout",
     "output_type": "stream",
     "text": [
      "Train loss 0.4367625614007314 Valid Loss =0.6574229001998901\n"
     ]
    },
    {
     "name": "stderr",
     "output_type": "stream",
     "text": [
      "100%|██████████| 6/6 [00:00<00:00,  7.57it/s]\n",
      "100%|██████████| 2/2 [00:00<00:00, 13.36it/s]\n",
      "  0%|          | 0/6 [00:00<?, ?it/s]"
     ]
    },
    {
     "name": "stdout",
     "output_type": "stream",
     "text": [
      "Train loss 0.3811369587977727 Valid Loss =0.66162970662117\n"
     ]
    },
    {
     "name": "stderr",
     "output_type": "stream",
     "text": [
      "100%|██████████| 6/6 [00:00<00:00,  7.67it/s]\n",
      "100%|██████████| 2/2 [00:00<00:00, 12.48it/s]\n"
     ]
    },
    {
     "name": "stdout",
     "output_type": "stream",
     "text": [
      "Train loss 0.3335288365681966 Valid Loss =0.62690569460392\n"
     ]
    },
    {
     "name": "stderr",
     "output_type": "stream",
     "text": [
      "100%|██████████| 6/6 [00:00<00:00,  7.33it/s]\n",
      "100%|██████████| 2/2 [00:00<00:00, 13.42it/s]\n"
     ]
    },
    {
     "name": "stdout",
     "output_type": "stream",
     "text": [
      "Train loss 0.32093239575624466 Valid Loss =0.6255975514650345\n"
     ]
    }
   ],
   "source": [
    "import pandas as pd\n",
    "import numpy as np\n",
    "\n",
    "import torch\n",
    "import joblib\n",
    "\n",
    "from sklearn import preprocessing\n",
    "from sklearn import model_selection\n",
    "\n",
    "from transformers import AdamW\n",
    "from transformers import get_linear_schedule_with_warmup\n",
    "\n",
    "import config\n",
    "import dataset\n",
    "import engine\n",
    "from model import EntityModel\n",
    "\n",
    "def process_data(data_path):\n",
    "    df = pd.read_csv(data_path,sep=';',encoding='latin-1')\n",
    "\n",
    "    # enc_pos = preprocessing.LabelEncoder()\n",
    "    enc_tag = preprocessing.LabelEncoder()\n",
    "\n",
    "    # df.loc[:, 'POS'] = enc_pos.fit_transform(df['POS'])\n",
    "    df.loc[:, 'tag'] = enc_tag.fit_transform(df['tag'])\n",
    "\n",
    "    titles = df.groupby('title#')['word'].apply(list).values\n",
    "    # pos = df.groupby()('title#')['POS'].apply(list).values  \n",
    "    tag = df.groupby('title#')['tag'].apply(list).values\n",
    "    return titles, tag, enc_tag\n",
    "\n",
    "if __name__ == '__main__':\n",
    "    titles, tag, enc_tag = process_data(config.TRAINING_FILE)\n",
    "\n",
    "    meta_data = {\n",
    "        'enc_tag': enc_tag\n",
    "    }\n",
    "    joblib.dump(meta_data,'meta.bin')\n",
    "    # num_pos = len(list(enc_pos.classes_))\n",
    "    num_tag = len(list(enc_tag.classes_))\n",
    "    \n",
    "    (\n",
    "        train_titles,\n",
    "        valid_titles,\n",
    "        train_tag,\n",
    "        valid_tag\n",
    "    ) = model_selection.train_test_split(titles, tag, random_state=42,test_size=0.1)\n",
    "\n",
    "    train_dataset = dataset.EntityDataset(texts = train_titles, tags=train_tag)\n",
    "\n",
    "    train_data_loader = torch.utils.data.DataLoader(\n",
    "        train_dataset, batch_size=config.TRAIN_BATCH_SIZE, num_workers=4\n",
    "    )\n",
    "  \n",
    "    valid_dataset = dataset.EntityDataset(texts = valid_titles, tags=valid_tag)\n",
    "\n",
    "    valid_data_loader = torch.utils.data.DataLoader(\n",
    "        valid_dataset, batch_size=config.VALID_BATCH_SIZE, num_workers=1\n",
    "    )\n",
    "\n",
    "    device = torch.device('cuda')\n",
    "    model = EntityModel(num_tag=num_tag)\n",
    "    model.to(device)\n",
    "\n",
    "    param_optimizer = list(model.named_parameters())\n",
    "    no_decay = ['bias', 'LayerNorm.bias','LayerNorm.weight']\n",
    "    optimizer_parameters=[\n",
    "        {\n",
    "            'params':[\n",
    "                p for n,p in param_optimizer if not any( nd in n for nd in no_decay)\n",
    "            ],\n",
    "            'weight_decay':0.001,\n",
    "        },\n",
    "        {\n",
    "            'params':[\n",
    "                p for n,p in param_optimizer if any(nd in n for nd in no_decay)\n",
    "            ],'weight_decay':0.0,\n",
    "        }\n",
    "    ]\n",
    "\n",
    "    num_train_steps = int(len(train_titles)/config.TRAIN_BATCH_SIZE * config.EPOCHS)\n",
    "    optimizer = AdamW(optimizer_parameters, lr=3e-5)\n",
    "    scheduler = get_linear_schedule_with_warmup(\n",
    "        optimizer, num_warmup_steps=0, num_training_steps=num_train_steps\n",
    "    )\n",
    "   \n",
    "    best_loss = np.inf\n",
    "    for epoch in range(config.EPOCHS):\n",
    "        train_loss = engine.train_fn(train_data_loader, model, optimizer, device, scheduler)\n",
    "        valid_loss = engine.eval_fn(valid_data_loader,model,device)\n",
    "        print(f'Train loss {train_loss} Valid Loss ={valid_loss}')\n",
    "        if valid_loss < best_loss:\n",
    "            torch.save(model.state_dict(), config.MODEL_PATH)\n",
    "            best_loss = valid_loss"
   ]
  },
  {
   "cell_type": "markdown",
   "metadata": {
    "id": "iv-xg9KB8th-"
   },
   "source": [
    "#predict"
   ]
  },
  {
   "cell_type": "code",
   "execution_count": 7,
   "metadata": {
    "colab": {
     "base_uri": "https://localhost:8080/",
     "height": 102
    },
    "executionInfo": {
     "elapsed": 26505,
     "status": "ok",
     "timestamp": 1602948147096,
     "user": {
      "displayName": "Yu Tian",
      "photoUrl": "",
      "userId": "08466120098552862127"
     },
     "user_tz": -180
    },
    "id": "heUQr4xZIy8M",
    "outputId": "574c3116-7850-4fdc-acf8-e69309dd3bc0"
   },
   "outputs": [
    {
     "name": "stdout",
     "output_type": "stream",
     "text": [
      "['punainen', 'paita', '124,', 'Police', 'Aurinkolasit', 'SPL997', 'ORIGINS', 'LITE', '30ml']\n",
      "[101, 32310, 34703, 22341, 10213, 17944, 117, 15034, 73635, 107113, 44826, 10123, 32650, 10161, 88657, 11305, 50062, 18711, 10244, 63308, 102]\n",
      "['B-BRAND' 'O' 'B-BRAND' 'B-BRAND' 'B-BRAND' 'B-BRAND' 'B-BRAND' 'B-BRAND'\n",
      " 'B-BRAND' 'B-BRAND' 'B-BRAND' 'B-BRAND' 'B-BRAND' 'B-BRAND' 'B-BRAND']\n"
     ]
    }
   ],
   "source": [
    "import numpy as np\n",
    "\n",
    "import torch\n",
    "import joblib\n",
    "\n",
    "import config\n",
    "import dataset\n",
    "import engine\n",
    "from model import EntityModel\n",
    "\n",
    "\n",
    "if __name__ == '__main__':\n",
    "    meta_data = joblib.load('meta.bin')\n",
    "    # enc_pos = meta_data['enc_pos']\n",
    "    enc_tag = meta_data['enc_tag']\n",
    "    # num_pos = len(list(enc_pos.classes_))\n",
    "    num_tag = len(list(enc_tag.classes_))\n",
    "    \n",
    "    title = \"\"\" punainen paita 124, Police Aurinkolasit SPL997 ORIGINS LITE 30ml\n",
    "\n",
    "    \"\"\"\n",
    "\n",
    "    tokenized_title = config.TOKENIZER.encode(title)\n",
    "    title = title.split()\n",
    "    print(title)\n",
    "    print(tokenized_title)\n",
    "\n",
    "\n",
    "    \n",
    "\n",
    "    test_dataset = dataset.EntityDataset(texts = [title], tags=[[0]*len(title)])\n",
    "\n",
    "    device = torch.device('cuda')\n",
    "    model = EntityModel(num_tag=num_tag)\n",
    "    model.load_state_dict(torch.load(config.MODEL_PATH))\n",
    "    model.to(device)\n",
    "\n",
    "    with torch.no_grad():\n",
    "        data = test_dataset[0]\n",
    "        for k, v in data.items():\n",
    "            data[k] = v.to(device).unsqueeze(0)\n",
    "        tag, _ = model(**data)\n",
    "\n",
    "    print(enc_tag.inverse_transform(\n",
    "        tag.argmax(2).cpu().numpy().reshape(-1))[:len(tokenized_title)]\n",
    "    )"
   ]
  },
  {
   "cell_type": "code",
   "execution_count": 2,
   "metadata": {
    "ExecuteTime": {
     "end_time": "2020-10-23T07:22:53.936725Z",
     "start_time": "2020-10-23T07:22:36.405758Z"
    },
    "id": "1uA3evjo8gX1"
   },
   "outputs": [],
   "source": [
    "import pandas as pd\n",
    "\n",
    "df_o = pd.read_csv(\"/Users/chenran/Google Drive/pkg/data.csv\")"
   ]
  },
  {
   "cell_type": "code",
   "execution_count": 3,
   "metadata": {
    "ExecuteTime": {
     "end_time": "2020-10-23T07:22:54.563843Z",
     "start_time": "2020-10-23T07:22:54.535760Z"
    },
    "id": "u4AWfIGN8gX8"
   },
   "outputs": [],
   "source": [
    "# Some random helpers to get us going\n",
    "def print_row_data(df, loc):\n",
    "    for k,v in df.iloc[loc].iteritems():\n",
    "        print(f\"{k}: {v}\")"
   ]
  },
  {
   "cell_type": "code",
   "execution_count": 45,
   "metadata": {
    "ExecuteTime": {
     "end_time": "2020-10-23T08:16:43.327719Z",
     "start_time": "2020-10-23T08:16:43.316086Z"
    }
   },
   "outputs": [
    {
     "name": "stdout",
     "output_type": "stream",
     "text": [
      "title: Sc-Erna Polvipituinen Hame Sininen Soyaconcept\n",
      "description: SOYACONCEPT on tanskalainen brändi, joka luo elegantteja vaatteita romanttisilla yksityiskohdilla.. Takapituus: 55 cm.\n",
      "summary: nan\n",
      "brand: Soyaconcept\n",
      "price: 49.99\n",
      "meta: {\"SIZE\": [\"36\"], \"COLOR\": [\"cristal blue\"], \"GENDER\": [\"women\"]}\n",
      "provider_category: 17-muoti-ja-vaatetus\n",
      "provider: Boozt\n"
     ]
    }
   ],
   "source": [
    "print_row_data(df_o,1)"
   ]
  },
  {
   "cell_type": "code",
   "execution_count": 16,
   "metadata": {
    "ExecuteTime": {
     "end_time": "2020-10-23T07:30:19.293751Z",
     "start_time": "2020-10-23T07:30:19.260419Z"
    }
   },
   "outputs": [
    {
     "data": {
      "text/plain": [
       "' ian 23/34 -78 a boy.'"
      ]
     },
     "execution_count": 16,
     "metadata": {},
     "output_type": "execute_result"
    }
   ],
   "source": [
    "\" \" + 'ian 23/34 -78 a boy.'"
   ]
  },
  {
   "cell_type": "code",
   "execution_count": 60,
   "metadata": {
    "ExecuteTime": {
     "end_time": "2020-10-23T08:31:39.701473Z",
     "start_time": "2020-10-23T08:31:39.511509Z"
    }
   },
   "outputs": [],
   "source": [
    "from nltk import word_tokenize\n",
    "def labeling(idx,label, string_chunk):\n",
    "    return [(idx,word,label) for word in word_tokenize(string_chunk)]"
   ]
  },
  {
   "cell_type": "code",
   "execution_count": 61,
   "metadata": {
    "ExecuteTime": {
     "end_time": "2020-10-23T08:32:13.954469Z",
     "start_time": "2020-10-23T08:32:13.927308Z"
    }
   },
   "outputs": [],
   "source": [
    "\n",
    "def branding(df,idx):\n",
    "    t, br = df.title, df.brand\n",
    "    start = (t.lower()).find(br.lower())\n",
    "    end = start + len(br)\n",
    "    labeled_title = labeling(idx,'O', t[:start]) + \\\n",
    "                    labeling(idx,'BRAND', t[start:end]) + labeling(idx,'0', t[end:])\n",
    "    return labeled_title"
   ]
  },
  {
   "cell_type": "code",
   "execution_count": 62,
   "metadata": {
    "ExecuteTime": {
     "end_time": "2020-10-23T08:32:16.204293Z",
     "start_time": "2020-10-23T08:32:16.200380Z"
    }
   },
   "outputs": [],
   "source": [
    "df=df_o.iloc[9]"
   ]
  },
  {
   "cell_type": "code",
   "execution_count": 73,
   "metadata": {
    "ExecuteTime": {
     "end_time": "2020-10-23T08:35:24.571223Z",
     "start_time": "2020-10-23T08:35:24.549399Z"
    }
   },
   "outputs": [
    {
     "data": {
      "text/plain": [
       "(671621, 8)"
      ]
     },
     "execution_count": 73,
     "metadata": {},
     "output_type": "execute_result"
    }
   ],
   "source": [
    "df_o.shape"
   ]
  },
  {
   "cell_type": "code",
   "execution_count": 74,
   "metadata": {
    "ExecuteTime": {
     "end_time": "2020-10-23T08:42:00.775106Z",
     "start_time": "2020-10-23T08:35:31.996818Z"
    }
   },
   "outputs": [
    {
     "data": {
      "text/plain": [
       "[(1, 'adidas', 'BRAND'),\n",
       " (1, 'Originals', 'BRAND'),\n",
       " (1, '-', '0'),\n",
       " (1, 'Superstar', '0'),\n",
       " (1, '-', '0'),\n",
       " (1, 'Valkoinen', '0'),\n",
       " (1, '-', '0'),\n",
       " (1, 'US', '0'),\n",
       " (1, '5,5', '0'),\n",
       " (2, 'Sc-Erna', '0'),\n",
       " (2, 'Polvipituinen', '0'),\n",
       " (2, 'Hame', '0'),\n",
       " (2, 'Sininen', '0'),\n",
       " (2, 'Soyaconcept', 'BRAND'),\n",
       " (3, 'Dana', 'BRAND'),\n",
       " (3, 'Buchman', 'BRAND'),\n",
       " (3, 'Silmälasit', '0'),\n",
       " (3, 'Taren', '0'),\n",
       " (3, 'CARAMEL', '0'),\n",
       " (3, 'TORTOISE', '0'),\n",
       " (4, 'Active', '0'),\n",
       " (4, 'Sports', '0'),\n",
       " (4, 'Woven', '0'),\n",
       " (4, 'Shorts', '0'),\n",
       " (4, 'B', '0'),\n",
       " (4, 'Shortsit', '0'),\n",
       " (4, 'Musta', '0'),\n",
       " (4, 'PUMA', 'BRAND'),\n",
       " (5, 'Renata', '0'),\n",
       " (5, 'Polvipituinen', '0'),\n",
       " (5, 'Hame', '0'),\n",
       " (5, 'Musta', '0'),\n",
       " (5, 'Fall', 'BRAND'),\n",
       " (5, 'Winter', 'BRAND'),\n",
       " (5, 'Spring', 'BRAND'),\n",
       " (5, 'Summer', 'BRAND'),\n",
       " (6, 'Salo', '0'),\n",
       " (6, 'M', '0'),\n",
       " (6, 'Technical', '0'),\n",
       " (6, 'Polo', '0'),\n",
       " (6, 'Polos', '0'),\n",
       " (6, 'Short-sleeved', '0'),\n",
       " (6, 'Sininen', '0'),\n",
       " (6, 'Halti', 'BRAND'),\n",
       " (7, 'Tennarit', '0'),\n",
       " (7, 'ML850C', '0'),\n",
       " (7, 'L850CD', '0'),\n",
       " (8, 'G9', '0'),\n",
       " (8, 'Orange', '0'),\n",
       " (8, 'Shin', '0'),\n",
       " (8, 'nge', '0'),\n",
       " (8, 'Shiny', '0'),\n",
       " (9, 'Diesel', 'BRAND'),\n",
       " (9, 'Aurinkolasit', '0'),\n",
       " (9, 'DL0076', '0'),\n",
       " (9, '90G', '0'),\n",
       " (10, 'Dotti', '0'),\n",
       " (10, 'Tyyny', '0'),\n",
       " (10, '50x50cm', '0'),\n",
       " (10, ',', '0'),\n",
       " (10, 'Mi', '0'),\n",
       " (10, 'ti', '0'),\n",
       " (10, 'Tyyny', '0'),\n",
       " (10, '50x50cm', '0'),\n",
       " (10, ',', '0'),\n",
       " (10, 'Mix', '0'),\n",
       " (11, 'Kengät', '0'),\n",
       " (11, 'Jonak', 'BRAND'),\n",
       " (11, 'DIDLANEO', '0'),\n",
       " (12, 'Lyhyt', '0'),\n",
       " (12, 'mekko', '0'),\n",
       " (12, 'See', 'BRAND'),\n",
       " (12, 'U', 'BRAND'),\n",
       " (12, 'Soon', 'BRAND'),\n",
       " (12, 'SANTINE', '0'),\n",
       " (13, 'Dsquared2', 'BRAND'),\n",
       " (13, 'Silmälasit', '0'),\n",
       " (13, 'DQ5126', '0'),\n",
       " (13, '072', '0'),\n",
       " (14, 'Stussy', 'BRAND'),\n",
       " (14, '-', '0'),\n",
       " (14, 'Basic', '0'),\n",
       " (14, 'Tee', '0'),\n",
       " (14, '-', '0'),\n",
       " (14, 'Musta', '0'),\n",
       " (14, '-', '0'),\n",
       " (14, 'M', '0'),\n",
       " (15, 'Kengät', '0'),\n",
       " (15, 'Grisport', 'BRAND'),\n",
       " (15, 'Nero', '0'),\n",
       " (15, 'Dakar', '0'),\n",
       " (15, '10309D109G', '0'),\n",
       " (16, 'Vredestein', 'BRAND'),\n",
       " (16, 'AW', '0'),\n",
       " (16, '(', '0'),\n",
       " (16, '15.0/55', '0'),\n",
       " (16, '-17', '0'),\n",
       " (16, '134A8', '0'),\n",
       " (16, 'TL', '0'),\n",
       " (16, ')', '0'),\n",
       " (17, 'Ryders', 'BRAND'),\n",
       " (17, 'Aurinkolasit', '0'),\n",
       " (17, 'TRAPPER', '0'),\n",
       " (17, 'R02502A', '0'),\n",
       " (18, 'Farah', 'BRAND'),\n",
       " (18, 'Silmälasit', '0'),\n",
       " (18, 'FHO', '0'),\n",
       " (18, '1011', '0'),\n",
       " (18, '113', '0'),\n",
       " (19, 'F-7301', '0'),\n",
       " (19, 'Korolliset', '0'),\n",
       " (19, 'Sandaalit', '0'),\n",
       " (19, 'Ruskea', '0'),\n",
       " (19, 'Wonders', 'BRAND'),\n",
       " (20, 'G4', '0'),\n",
       " (20, 'PRO', '0'),\n",
       " (20, 'White', '0'),\n",
       " (20, 'mirro', '0'),\n",
       " (20, 'White', '0'),\n",
       " (20, 'mirror', '0'),\n",
       " (21, 'Tennarit', '0'),\n",
       " (21, 'CTALYMS', '0'),\n",
       " (21, 'TALYMSI', '0'),\n",
       " (22, 'Sukat', '0'),\n",
       " (22, 'Bamboo', '0'),\n",
       " (22, 'Socks', '0'),\n",
       " (22, ',', '0'),\n",
       " (22, '5', '0'),\n",
       " (22, 'pari', '0'),\n",
       " (22, 'at', '0'),\n",
       " (22, 'Bamboo', '0'),\n",
       " (22, 'Socks', '0'),\n",
       " (22, ',', '0'),\n",
       " (22, '5', '0'),\n",
       " (22, 'paria', '0'),\n",
       " (23, 'Cazal', 'BRAND'),\n",
       " (23, 'Silmälasit', '0'),\n",
       " (23, '4267', '0'),\n",
       " (23, '004', '0'),\n",
       " (24, '13294', '0'),\n",
       " (24, 'Bags', '0'),\n",
       " (24, 'Small', '0'),\n",
       " (24, 'Shoulder', '0'),\n",
       " (24, 'Bags', '0'),\n",
       " (24, '-', '0'),\n",
       " (24, 'Crossbody', '0'),\n",
       " (24, 'Bags', '0'),\n",
       " (24, 'Kermanvärinen', '0'),\n",
       " (24, 'DEPECHE', 'BRAND'),\n",
       " (25, 'Madina', '0'),\n",
       " (25, 'W', '0'),\n",
       " (25, 'Tee', '0'),\n",
       " (25, 'T-shirts', '0'),\n",
       " (25, '&', '0'),\n",
       " (25, 'Tops', '0'),\n",
       " (25, 'Short-sleeved', '0'),\n",
       " (25, 'Musta', '0'),\n",
       " (25, '8848', 'BRAND'),\n",
       " (25, 'Altitude', 'BRAND'),\n",
       " (26, 'Superdry', 'BRAND'),\n",
       " (26, 'Aurinkolasit', '0'),\n",
       " (26, 'SDS', '0'),\n",
       " (26, 'YATOMI', '0'),\n",
       " (26, '006', '0'),\n",
       " (27, 'Burberry', 'BRAND'),\n",
       " (27, 'Aurinkolasit', '0'),\n",
       " (27, 'BE4181', '0'),\n",
       " (27, '300187', '0'),\n",
       " (28, 'Ray', '0'),\n",
       " (28, 'Kattovalaisin', '0'),\n",
       " (28, ',', '0'),\n",
       " (28, 'Large', '0'),\n",
       " (28, ',', '0'),\n",
       " (28, 'Valkoine', '0'),\n",
       " (28, 'isin', '0'),\n",
       " (28, ',', '0'),\n",
       " (28, 'Large', '0'),\n",
       " (28, ',', '0'),\n",
       " (28, 'Valkoinen', '0'),\n",
       " (29, 'Paradigm', 'BRAND'),\n",
       " (29, 'Aurinkolasit', '0'),\n",
       " (29, '19-30', '0'),\n",
       " (29, 'Rose', '0'),\n",
       " (29, 'Gold', '0'),\n",
       " (30, 'General', 'BRAND'),\n",
       " (30, 'Tractor', '0'),\n",
       " (30, 'V.Ply', '0'),\n",
       " (30, '(', '0'),\n",
       " (30, '20.8', '0'),\n",
       " (30, '-38', '0'),\n",
       " (30, '151A6', '0'),\n",
       " (30, '10PR', '0'),\n",
       " (30, 'TT', '0'),\n",
       " (30, ')', '0'),\n",
       " (31, 'Sola', '0'),\n",
       " (31, 'Dress', '0'),\n",
       " (31, 'Polvipituinen', '0'),\n",
       " (31, 'Mekko', '0'),\n",
       " (31, 'Kermanvärinen', '0'),\n",
       " (31, 'Résumé', 'BRAND'),\n",
       " (32, 'Helix', '0'),\n",
       " (32, 'teekannu', '0'),\n",
       " (32, 'ruostumaton', '0'),\n",
       " (32, 'teräs', '0'),\n",
       " (32, '1', '0'),\n",
       " (32, 'nnu', '0'),\n",
       " (32, 'ruostumaton', '0'),\n",
       " (32, 'teräs', '0'),\n",
       " (32, '1', '0'),\n",
       " (32, 'l', '0'),\n",
       " (33, 'False', '0'),\n",
       " (33, 'Lash', '0'),\n",
       " (33, 'Effect', '0'),\n",
       " (33, 'Velvet', '0'),\n",
       " (33, 'Volume', '0'),\n",
       " (33, 'Mascara', '0'),\n",
       " (33, ',', '0'),\n",
       " (33, 'Blac', '0'),\n",
       " (33, 'h', '0'),\n",
       " (33, 'Effect', '0'),\n",
       " (33, 'Velvet', '0'),\n",
       " (33, 'Volume', '0'),\n",
       " (33, 'Mascara', '0'),\n",
       " (33, ',', '0'),\n",
       " (33, 'Black', '0'),\n",
       " (34, 'False', '0'),\n",
       " (34, 'Lash', '0'),\n",
       " (34, 'Effect', '0'),\n",
       " (34, 'Velvet', '0'),\n",
       " (34, 'Volume', '0'),\n",
       " (34, 'Mascara', '0'),\n",
       " (34, ',', '0'),\n",
       " (34, 'Black/B', '0'),\n",
       " (34, 'h', '0'),\n",
       " (34, 'Effect', '0'),\n",
       " (34, 'Velvet', '0'),\n",
       " (34, 'Volume', '0'),\n",
       " (34, 'Mascara', '0'),\n",
       " (34, ',', '0'),\n",
       " (34, 'Black/Br', '0'),\n",
       " (35, 'ROK', '0'),\n",
       " (35, 'Merino', '0'),\n",
       " (35, 'Gloves', '0'),\n",
       " (35, 'Musta', '0'),\n",
       " (35, 'L/X', '0'),\n",
       " (35, 'rino', '0'),\n",
       " (35, 'Gloves', '0'),\n",
       " (35, 'Musta', '0'),\n",
       " (35, 'L/XL', '0'),\n",
       " (36, 'Diesel', 'BRAND'),\n",
       " (36, 'Silmälasit', '0'),\n",
       " (36, 'DL5067', '0'),\n",
       " (36, '001', '0'),\n",
       " (37, 'Small', '0'),\n",
       " (37, 'Eye', '0'),\n",
       " (37, 'Shadow', '0'),\n",
       " (37, 'Beauty', '0'),\n",
       " (37, 'WOMEN', '0'),\n",
       " (37, 'Makeup', '0'),\n",
       " (37, 'Eyes', '0'),\n",
       " (37, 'Eyeshadow', '0'),\n",
       " (37, '-', '0'),\n",
       " (37, 'Not', '0'),\n",
       " (37, 'Palettes', '0'),\n",
       " (37, 'Ruskea', '0'),\n",
       " (37, 'M.A.C', 'BRAND'),\n",
       " (37, '.', 'BRAND'),\n",
       " (38, 'Kengät', '0'),\n",
       " (38, 'Victoria', 'BRAND'),\n",
       " (38, 'BERLIN', '0'),\n",
       " (38, 'PIEL', '0'),\n",
       " (39, 'Capsule', '0'),\n",
       " (39, 'Wool', '0'),\n",
       " (39, 'Tights', '0'),\n",
       " (39, 'Sukkahousut', '0'),\n",
       " (39, 'Valkoinen', '0'),\n",
       " (39, 'Mp', 'BRAND'),\n",
       " (39, 'Denmark', 'BRAND'),\n",
       " (40, 'Norden', '0'),\n",
       " (40, '2', '0'),\n",
       " (40, 'osainen', '0'),\n",
       " (40, 'veitsisett', '0'),\n",
       " (40, '2', '0'),\n",
       " (40, 'osainen', '0'),\n",
       " (40, 'veitsisetti', '0'),\n",
       " (41, 'Marshmallow', '0'),\n",
       " (41, 'Hearts', '0'),\n",
       " (41, 'Bath', '0'),\n",
       " (41, '&', '0'),\n",
       " (41, 'Shower', '0'),\n",
       " (41, 'Gel', '0'),\n",
       " (41, '500', '0'),\n",
       " (41, 'm', '0'),\n",
       " (41, 'w', '0'),\n",
       " (41, 'Hearts', '0'),\n",
       " (41, 'Bath', '0'),\n",
       " (41, '&', '0'),\n",
       " (41, 'Shower', '0'),\n",
       " (41, 'Gel', '0'),\n",
       " (41, '500', '0'),\n",
       " (41, 'ml', '0'),\n",
       " (42, 'Rodebjer', 'BRAND'),\n",
       " (42, 'Nevaeh', '0'),\n",
       " (42, 'Leveälahkeiset', '0'),\n",
       " (42, 'Housut', '0'),\n",
       " (42, 'Ruskea', '0'),\n",
       " (42, 'RODEBJER', '0'),\n",
       " (43, 'Wet', 'BRAND'),\n",
       " (43, 'n', 'BRAND'),\n",
       " (43, 'Wild', 'BRAND'),\n",
       " (43, 'Angled', '0'),\n",
       " (43, 'Liner', '0'),\n",
       " (43, 'Brush', '0'),\n",
       " (44, 'Stella', '0'),\n",
       " (44, ',', '0'),\n",
       " (44, 'Shw', '0'),\n",
       " (44, ',', '0'),\n",
       " (44, 'Brief', '0'),\n",
       " (44, 'Bikinialaosa', '0'),\n",
       " (44, 'Sininen', '0'),\n",
       " (44, 'Zizzi', 'BRAND'),\n",
       " (45, 'Mom', '0'),\n",
       " (45, 'Jean', '0'),\n",
       " (45, 'Jeans', '0'),\n",
       " (45, 'Mom', '0'),\n",
       " (45, 'Jeans', '0'),\n",
       " (45, 'Sininen', '0'),\n",
       " (45, 'Calvin', 'BRAND'),\n",
       " (45, 'Klein', 'BRAND'),\n",
       " (45, 'Jeans', 'BRAND'),\n",
       " (46, 'G15', '0'),\n",
       " (46, 'Black', '0'),\n",
       " (46, 'Ma', '0'),\n",
       " (46, 'ack', '0'),\n",
       " (46, 'Mat', '0'),\n",
       " (47, 'Colby', '0'),\n",
       " (47, 'Sneaker', '0'),\n",
       " (47, 'Matalavartiset', '0'),\n",
       " (47, 'Sneakerit', '0'),\n",
       " (47, 'Tennarit', '0'),\n",
       " (47, 'Musta', '0'),\n",
       " (47, 'Michael', 'BRAND'),\n",
       " (47, 'Kors', 'BRAND'),\n",
       " (47, 'Shoes', 'BRAND'),\n",
       " (48, 'D-Bazer', '0'),\n",
       " (48, 'Farkut', '0'),\n",
       " (48, 'Sininen', '0'),\n",
       " (48, 'Diesel', 'BRAND'),\n",
       " (48, 'Men', 'BRAND'),\n",
       " (49, 'Lecco', '0'),\n",
       " (49, '80', '0'),\n",
       " (49, 'T-shirts', '0'),\n",
       " (49, 'Short-sleeved', '0'),\n",
       " (49, 'Valkoinen', '0'),\n",
       " (49, 'BOSS', 'BRAND'),\n",
       " (50, 'SENOA', '0'),\n",
       " (50, 'Style', '0'),\n",
       " (50, 'Sähkögrilli', '0'),\n",
       " (50, 'jalustall', '0'),\n",
       " (50, 'Style', '0'),\n",
       " (50, 'Sähkögrilli', '0'),\n",
       " (50, 'jalustalla', '0'),\n",
       " (51, 'G12', '0'),\n",
       " (51, 'Black', '0'),\n",
       " (51, 'Shiny', '0'),\n",
       " (51, 'Polarize', '0'),\n",
       " (51, 'ack', '0'),\n",
       " (51, 'Shiny', '0'),\n",
       " (51, 'Polarized', '0'),\n",
       " (52, 'Suoja', '0'),\n",
       " (52, 'Box', '0'),\n",
       " (52, 'Kaasugrillii', '0'),\n",
       " (52, 'ox', '0'),\n",
       " (52, 'Kaasugrilliin', '0'),\n",
       " (53, 'Verpan', 'BRAND'),\n",
       " (53, '-Fun', '0'),\n",
       " (53, '1DM', '0'),\n",
       " (53, 'Riippuvalaisin', '0'),\n",
       " (54, 'Lyhyt', '0'),\n",
       " (54, 'mekko', '0'),\n",
       " (54, 'Betty', 'BRAND'),\n",
       " (54, 'London', 'BRAND'),\n",
       " (54, 'LADY', '0'),\n",
       " (55, 'Coat', '0'),\n",
       " (55, 'Rack', '0'),\n",
       " (55, 'Naulakko', '0'),\n",
       " (55, ',', '0'),\n",
       " (55, 'Musta/Raut', '0'),\n",
       " (55, 'aulakko', '0'),\n",
       " (55, ',', '0'),\n",
       " (55, 'Musta/Rauta', '0'),\n",
       " (56, 'Chelsea', '0'),\n",
       " (56, 'Pöytävalaisin', '0'),\n",
       " (56, '31x48cm', '0'),\n",
       " (56, ',', '0'),\n",
       " (56, 'Must', '0'),\n",
       " (56, 'sea', '0'),\n",
       " (56, 'Pöytävalaisin', '0'),\n",
       " (56, '31x48cm', '0'),\n",
       " (56, ',', '0'),\n",
       " (56, 'Musta', '0'),\n",
       " (57, 'Reppu', '0'),\n",
       " (57, 'Vans', 'BRAND'),\n",
       " (57, 'WM', '0'),\n",
       " (57, 'REALM', '0'),\n",
       " (57, 'PLUS', '0'),\n",
       " (57, 'BACKPA', '0'),\n",
       " (58, 'Lash', '0'),\n",
       " (58, 'Sensational', '0'),\n",
       " (58, 'Waterproof', '0'),\n",
       " (58, 'Mascara', '0'),\n",
       " (58, ',', '0'),\n",
       " (58, 'Blac', '0'),\n",
       " (58, 'ational', '0'),\n",
       " (58, 'Waterproof', '0'),\n",
       " (58, 'Mascara', '0'),\n",
       " (58, ',', '0'),\n",
       " (58, 'Black', '0'),\n",
       " (59, 'Tilda', '0'),\n",
       " (59, 'Dress', '0'),\n",
       " (59, 'Polvipituinen', '0'),\n",
       " (59, 'Mekko', '0'),\n",
       " (59, 'Sininen', '0'),\n",
       " (59, 'Boob', 'BRAND'),\n",
       " (60, 'Origami', '0'),\n",
       " (60, 'Pöytävalaisin', '0'),\n",
       " (60, ',', '0'),\n",
       " (60, 'Valkoine', '0'),\n",
       " (60, 'ami', '0'),\n",
       " (60, 'Pöytävalaisin', '0'),\n",
       " (60, ',', '0'),\n",
       " (60, 'Valkoinen', '0'),\n",
       " (61, 'Absolute', '0'),\n",
       " (61, 'Woman', '0'),\n",
       " (61, ',', '0'),\n",
       " (61, 'EdT', '0'),\n",
       " (61, '40m', '0'),\n",
       " (61, 'man', '0'),\n",
       " (61, ',', '0'),\n",
       " (61, 'EdT', '0'),\n",
       " (61, '40ml', '0'),\n",
       " (62, 'Moss', '0'),\n",
       " (62, 'Kynttilänjalka', '0'),\n",
       " (62, '8.5', '0'),\n",
       " (62, 'cm', '0'),\n",
       " (62, 'Blue', '0'),\n",
       " (62, 'Mirag', '0'),\n",
       " (62, 'änjalka', '0'),\n",
       " (62, '8.5', '0'),\n",
       " (62, 'cm', '0'),\n",
       " (62, 'Blue', '0'),\n",
       " (62, 'Mirage', '0'),\n",
       " (63, 'Le', '0'),\n",
       " (63, 'Parfum', '0'),\n",
       " (63, ',', '0'),\n",
       " (63, 'Deospray', '0'),\n",
       " (63, '100m', '0'),\n",
       " (63, 'm', '0'),\n",
       " (63, ',', '0'),\n",
       " (63, 'Deospray', '0'),\n",
       " (63, '100ml', '0'),\n",
       " (64, 'Vredestein', 'BRAND'),\n",
       " (64, 'Flotation', '0'),\n",
       " (64, '+', '0'),\n",
       " (64, '(', '0'),\n",
       " (64, '400/70', '0'),\n",
       " (64, '-20', '0'),\n",
       " (64, '150A8', '0'),\n",
       " (64, 'TL', '0'),\n",
       " (64, ')', '0'),\n",
       " (65, 'VG10', '0'),\n",
       " (65, 'Leipäveitsi', '0'),\n",
       " (65, '20c', '0'),\n",
       " (65, '10', '0'),\n",
       " (65, 'Leipäveitsi', '0'),\n",
       " (65, '20cm', '0'),\n",
       " (66, 'Mitas', 'BRAND'),\n",
       " (66, 'TD-19', '0'),\n",
       " (66, '(', '0'),\n",
       " (66, '12.4', '0'),\n",
       " (66, '-24', '0'),\n",
       " (66, '120A6', '0'),\n",
       " (66, '8PR', '0'),\n",
       " (66, 'TT', '0'),\n",
       " (66, 'kaksoistunnus', '0'),\n",
       " (66, '112A8', '0'),\n",
       " (66, ')', '0'),\n",
       " (67, 'Gap', 'BRAND'),\n",
       " (67, 'Logo', '0'),\n",
       " (67, 'Joggers', '0'),\n",
       " (67, 'Collegehousut', '0'),\n",
       " (67, 'Olohousut', '0'),\n",
       " (67, 'Harmaa', '0'),\n",
       " (67, 'GAP', '0'),\n",
       " (68, 'Diesel', 'BRAND'),\n",
       " (68, 'Silmälasit', '0'),\n",
       " (68, 'DL5050', '0'),\n",
       " (68, '050', '0'),\n",
       " (69, 'Kate', 'BRAND'),\n",
       " (69, 'Spade', 'BRAND'),\n",
       " (69, 'Aurinkolasit', '0'),\n",
       " (69, 'Avaline2/S', '0'),\n",
       " (69, 'HT8/0J', '0'),\n",
       " (70, 'Ozka', 'BRAND'),\n",
       " (70, 'Agro', '0'),\n",
       " (70, '10', '0'),\n",
       " (70, 'Traction', '0'),\n",
       " (70, '(', '0'),\n",
       " (70, '280/85', '0'),\n",
       " (70, 'R24', '0'),\n",
       " (70, '115A8', '0'),\n",
       " (70, 'TL', '0'),\n",
       " (70, 'kaksoistunnus', '0'),\n",
       " (70, '112B', '0'),\n",
       " (70, ')', '0'),\n",
       " (71, 'Gloryfy', 'BRAND'),\n",
       " (71, 'Gi15', '0'),\n",
       " (71, 'St', '0'),\n",
       " (71, 'Pauli', '0'),\n",
       " (71, 'Havanna', '0'),\n",
       " (71, 'Shiny', '0'),\n",
       " (72, 'Select', 'BRAND'),\n",
       " (72, 'Warm', '0'),\n",
       " (72, 'Shortsit', '0'),\n",
       " (72, 'w/Lycra', '0'),\n",
       " (72, 'Musta', '0'),\n",
       " (73, 'Retrosuperfuture', 'BRAND'),\n",
       " (73, 'Aurinkolasit', '0'),\n",
       " (73, 'DREW', '0'),\n",
       " (73, 'MAMA', '0'),\n",
       " (73, 'PANNA', '0'),\n",
       " (73, 'IAXN', '0'),\n",
       " (73, 'SVX', '0'),\n",
       " (74, 'Umbra', '0'),\n",
       " (74, 'Dress', '0'),\n",
       " (74, 'Maksimekko', '0'),\n",
       " (74, 'Juhlamekko', '0'),\n",
       " (74, 'Vaaleanpunainen', '0'),\n",
       " (74, 'Résumé', 'BRAND'),\n",
       " (75, 'Harvey', '0'),\n",
       " (75, 'Jacket', '0'),\n",
       " (75, 'Outerwear', '0'),\n",
       " (75, 'Jackets', '0'),\n",
       " (75, 'Anoraks', '0'),\n",
       " (75, 'Sininen', '0'),\n",
       " (75, 'Lexington', 'BRAND'),\n",
       " (75, 'Clothing', 'BRAND'),\n",
       " (76, 'Superdry', 'BRAND'),\n",
       " (76, 'Silmälasit', '0'),\n",
       " (76, 'SDO', '0'),\n",
       " (76, 'YUMI', '0'),\n",
       " (76, '104', '0'),\n",
       " (77, 'Sophie', '0'),\n",
       " (77, 'Aurora', '0'),\n",
       " (77, 'Dress', '0'),\n",
       " (77, 'Maksimekko', '0'),\n",
       " (77, 'Juhlamekko', '0'),\n",
       " (77, 'Sininen', '0'),\n",
       " (77, 'Bruuns', 'BRAND'),\n",
       " (77, 'Bazaar', 'BRAND'),\n",
       " (78, 'Norr', '0'),\n",
       " (78, 'Leipäveitsi', '0'),\n",
       " (78, '21', '0'),\n",
       " (78, 'c', '0'),\n",
       " (78, 'eipäveitsi', '0'),\n",
       " (78, '21', '0'),\n",
       " (78, 'cm', '0'),\n",
       " (79, 'Essential', '0'),\n",
       " (79, 'for', '0'),\n",
       " (79, 'Her', '0'),\n",
       " (79, ',', '0'),\n",
       " (79, 'EdT', '0'),\n",
       " (79, '20m', '0'),\n",
       " (79, 'tial', '0'),\n",
       " (79, 'for', '0'),\n",
       " (79, 'Her', '0'),\n",
       " (79, ',', '0'),\n",
       " (79, 'EdT', '0'),\n",
       " (79, '20ml', '0'),\n",
       " (80, 'Essential', '0'),\n",
       " (80, 'for', '0'),\n",
       " (80, 'Her', '0'),\n",
       " (80, ',', '0'),\n",
       " (80, 'EdT', '0'),\n",
       " (80, '40m', '0'),\n",
       " (80, 'tial', '0'),\n",
       " (80, 'for', '0'),\n",
       " (80, 'Her', '0'),\n",
       " (80, ',', '0'),\n",
       " (80, 'EdT', '0'),\n",
       " (80, '40ml', '0'),\n",
       " (81, 'FF', '0'),\n",
       " (81, 'Veitsitukki', '0'),\n",
       " (81, '5', '0'),\n",
       " (81, 'veistä', '0'),\n",
       " (81, 'valkoine', '0'),\n",
       " (81, 'tsitukki', '0'),\n",
       " (81, '5', '0'),\n",
       " (81, 'veistä', '0'),\n",
       " (81, 'valkoinen', '0'),\n",
       " (82, 'GI21', '0'),\n",
       " (82, 'Dante', '0'),\n",
       " (82, 'Re', '0'),\n",
       " (82, 'ante', '0'),\n",
       " (82, 'Red', '0'),\n",
       " (83, 'Lyhythihainen', '0'),\n",
       " (83, 't-paita', '0'),\n",
       " (83, 'BOTD', 'BRAND'),\n",
       " (83, 'ESTOILA', '0'),\n",
       " (84, 'Kengät', '0'),\n",
       " (84, 'Big', 'BRAND'),\n",
       " (84, 'Star', 'BRAND'),\n",
       " (84, 'Shoes', '0'),\n",
       " (84, 'Big', '0'),\n",
       " (84, 'Top', '0'),\n",
       " (84, 'FF274343', '0'),\n",
       " (85, 'Starmaxx', 'BRAND'),\n",
       " (85, 'TR-110', '0'),\n",
       " (85, '(', '0'),\n",
       " (85, '340/85', '0'),\n",
       " (85, 'R38', '0'),\n",
       " (85, '133A8', '0'),\n",
       " (85, 'TL', '0'),\n",
       " (85, 'kaksoistunnus', '0'),\n",
       " (85, '130B', '0'),\n",
       " (85, ')', '0'),\n",
       " (86, 'Dana', 'BRAND'),\n",
       " (86, 'Buchman', 'BRAND'),\n",
       " (86, 'Silmälasit', '0'),\n",
       " (86, 'Poppi', '0'),\n",
       " (86, 'BLACK', '0'),\n",
       " (87, 'Roberto', 'BRAND'),\n",
       " (87, 'Cavalli', 'BRAND'),\n",
       " (87, 'Silmälasit', '0'),\n",
       " (87, 'RC', '0'),\n",
       " (87, '5052', '0'),\n",
       " (87, 'FOIANO', '0'),\n",
       " (87, '016', '0'),\n",
       " (88, 'Roberto', 'BRAND'),\n",
       " (88, 'Cavalli', 'BRAND'),\n",
       " (88, 'Silmälasit', '0'),\n",
       " (88, 'RC', '0'),\n",
       " (88, '5053', '0'),\n",
       " (88, 'FOLLONICA', '0'),\n",
       " (88, 'A56', '0'),\n",
       " (89, 'Femme', '0'),\n",
       " (89, ',', '0'),\n",
       " (89, 'EdP', '0'),\n",
       " (89, '100m', '0'),\n",
       " (89, 'EdP', '0'),\n",
       " (89, '100ml', '0'),\n",
       " (90, 'Paradise', '0'),\n",
       " (90, 'Bay', '0'),\n",
       " (90, ',', '0'),\n",
       " (90, 'EdP', '0'),\n",
       " (90, '85m', '0'),\n",
       " (90, 'EdP', '0'),\n",
       " (90, '85ml', '0'),\n",
       " (91, 'Rannekoru', '0'),\n",
       " (91, 'A1859', '0'),\n",
       " (91, 'Leather', '0'),\n",
       " (91, 'Bracelet', '0'),\n",
       " (91, 'Blac', '0'),\n",
       " (91, 'A1859', '0'),\n",
       " (91, 'Leather', '0'),\n",
       " (91, 'Bracelet', '0'),\n",
       " (91, 'Black', '0'),\n",
       " (92, 'Striped', '0'),\n",
       " (92, 'Flower', '0'),\n",
       " (92, 'Pussilakana', '0'),\n",
       " (92, '220x220cm', '0'),\n",
       " (92, ',', '0'),\n",
       " (92, 'Lt', '0'),\n",
       " (92, 'Aqu', '0'),\n",
       " (92, 'silakana', '0'),\n",
       " (92, '220x220cm', '0'),\n",
       " (92, ',', '0'),\n",
       " (92, 'Lt', '0'),\n",
       " (92, 'Aqua', '0'),\n",
       " (93, 'Funktion', '0'),\n",
       " (93, '4', '0'),\n",
       " (93, 'Matala', '0'),\n",
       " (93, 'Kattila', '0'),\n",
       " (93, 'ja', '0'),\n",
       " (93, 'kansi', '0'),\n",
       " (93, '140', '0'),\n",
       " (93, 'c', '0'),\n",
       " (93, 'nktion', '0'),\n",
       " (93, '4', '0'),\n",
       " (93, 'Matala', '0'),\n",
       " (93, 'Kattila', '0'),\n",
       " (93, 'ja', '0'),\n",
       " (93, 'kansi', '0'),\n",
       " (93, '140', '0'),\n",
       " (93, 'cl', '0'),\n",
       " (94, 'Mosakb', '0'),\n",
       " (94, 'Tie', '0'),\n",
       " (94, 'Dress', '0'),\n",
       " (94, 'Polvipituinen', '0'),\n",
       " (94, 'Mekko', '0'),\n",
       " (94, 'Monivärinen/Kuvioitu', '0'),\n",
       " (94, 'Karen', 'BRAND'),\n",
       " (94, 'By', 'BRAND'),\n",
       " (94, 'Simonsen', 'BRAND'),\n",
       " (95, 'Bitz', 'BRAND'),\n",
       " (95, 'kulho', '0'),\n",
       " (95, 'Ø', '0'),\n",
       " (95, '14', '0'),\n",
       " (95, 'cm', '0'),\n",
       " (95, 'musta', '0'),\n",
       " (95, 'Musta-meripihka', '0'),\n",
       " (96, 'Cultor', 'BRAND'),\n",
       " (96, 'RD-01', '0'),\n",
       " (96, '(', '0'),\n",
       " (96, '320/85', '0'),\n",
       " (96, 'R32', '0'),\n",
       " (96, '142A8', '0'),\n",
       " (96, 'TL', '0'),\n",
       " (96, 'kaksoistunnus', '0'),\n",
       " (96, '142B', '0'),\n",
       " (96, ')', '0'),\n",
       " (97, 'DBKD', 'BRAND'),\n",
       " (97, '-Oblong', '0'),\n",
       " (97, 'Ruukku/Maljakko', '0'),\n",
       " (97, 'Small', '0'),\n",
       " (97, ',', '0'),\n",
       " (97, 'Mole', '0'),\n",
       " (98, 'Poikien', '0'),\n",
       " (98, 'sandaalit', '0'),\n",
       " (98, 'Geox', 'BRAND'),\n",
       " (98, 'JR', '0'),\n",
       " (98, 'SANDAL', '0'),\n",
       " (98, 'STRADA', '0'),\n",
       " (99, 'Moncler', 'BRAND'),\n",
       " (99, 'Aurinkolasit', '0'),\n",
       " (99, 'ML0073', '0'),\n",
       " (99, '01A', '0'),\n",
       " (100, 'Police', 'BRAND'),\n",
       " (100, 'Aurinkolasit', '0'),\n",
       " (100, 'SPL997', '0'),\n",
       " (100, 'ORIGINS', '0'),\n",
       " (100, 'LITE', '0'),\n",
       " (100, '3', '0'),\n",
       " (100, '0722', '0'),\n",
       " (101, 'Tommy', '0'),\n",
       " (101, 'Girl', '0'),\n",
       " (101, 'Neon', '0'),\n",
       " (101, 'Brights', '0'),\n",
       " (101, ',', '0'),\n",
       " (101, 'EdT', '0'),\n",
       " (101, '50m', '0'),\n",
       " (101, 'on', '0'),\n",
       " (101, 'Brights', '0'),\n",
       " (101, ',', '0'),\n",
       " (101, 'EdT', '0'),\n",
       " (101, '50ml', '0'),\n",
       " (102, 'Mini', '0'),\n",
       " (102, 'Foodprocessor', '0'),\n",
       " (102, '0,95', '0'),\n",
       " (102, 'litraa', '0'),\n",
       " (102, 'Punaine', '0'),\n",
       " (102, 'processor', '0'),\n",
       " (102, '0,95', '0'),\n",
       " (102, 'litraa', '0'),\n",
       " (102, 'Punainen', '0'),\n",
       " (103, 'SP700+', '0'),\n",
       " (103, 'Maidonvaahdotin', '0'),\n",
       " (103, ',', '0'),\n",
       " (103, 'jossa', '0'),\n",
       " (103, '13', '0'),\n",
       " (103, 'Ohjelma', '0'),\n",
       " (103, 'Maidonvaahdotin', '0'),\n",
       " (103, ',', '0'),\n",
       " (103, 'jossa', '0'),\n",
       " (103, '13', '0'),\n",
       " (103, 'Ohjelmaa', '0'),\n",
       " (104, 'Aromatics', '0'),\n",
       " (104, 'Elixir', '0'),\n",
       " (104, ',', '0'),\n",
       " (104, 'Perfume', '0'),\n",
       " (104, 'Spray', '0'),\n",
       " (104, '100m', '0'),\n",
       " (104, 'cs', '0'),\n",
       " (104, 'Elixir', '0'),\n",
       " (104, ',', '0'),\n",
       " (104, 'Perfume', '0'),\n",
       " (104, 'Spray', '0'),\n",
       " (104, '100ml', '0'),\n",
       " (105, 'Ozka', 'BRAND'),\n",
       " (105, 'Agro', '0'),\n",
       " (105, '10', '0'),\n",
       " (105, 'Traction', '0'),\n",
       " (105, '(', '0'),\n",
       " (105, '480/70', '0'),\n",
       " (105, 'R30', '0'),\n",
       " (105, '141A8', '0'),\n",
       " (105, 'TL', '0'),\n",
       " (105, ')', '0'),\n",
       " (106, 'G3', '0'),\n",
       " (106, 'Smarag', '0'),\n",
       " (106, 'ragd', '0'),\n",
       " (107, 'Clara', '0'),\n",
       " (107, 'Velvet', '0'),\n",
       " (107, 'Skirt', '0'),\n",
       " (107, 'Polvipituinen', '0'),\n",
       " (107, 'Hame', '0'),\n",
       " (107, 'Oranssi', '0'),\n",
       " (107, 'Just', 'BRAND'),\n",
       " (107, 'Female', 'BRAND'),\n",
       " (108, 'Leivänpaahdin', '0'),\n",
       " (108, 'Cube', '0'),\n",
       " (108, ',', '0'),\n",
       " (108, '2', '0'),\n",
       " (108, 'viipaleell', '0'),\n",
       " (108, 'din', '0'),\n",
       " (108, 'Cube', '0'),\n",
       " (108, ',', '0'),\n",
       " (108, '2', '0'),\n",
       " (108, 'viipaleelle', '0'),\n",
       " (109, 'Bkt', 'BRAND'),\n",
       " (109, 'Tr-135', '0'),\n",
       " (109, '(', '0'),\n",
       " (109, '12.4', '0'),\n",
       " (109, '-36', '0'),\n",
       " (109, '127A6', '0'),\n",
       " (109, '8Pr', '0'),\n",
       " (109, 'Tt', '0'),\n",
       " (109, ')', '0'),\n",
       " (110, 'G2', '0'),\n",
       " (110, 'Cuba', '0'),\n",
       " (110, 'Libr', '0'),\n",
       " (110, 'a', '0'),\n",
       " (110, 'Libre', '0'),\n",
       " (111, 'Aromatics', '0'),\n",
       " (111, 'Elixir', '0'),\n",
       " (111, ',', '0'),\n",
       " (111, 'Perfume', '0'),\n",
       " (111, 'Spray', '0'),\n",
       " (111, '10m', '0'),\n",
       " (111, 'cs', '0'),\n",
       " (111, 'Elixir', '0'),\n",
       " (111, ',', '0'),\n",
       " (111, 'Perfume', '0'),\n",
       " (111, 'Spray', '0'),\n",
       " (111, '10ml', '0'),\n",
       " (112, 'Korkokengät', '0'),\n",
       " (112, 'Etro', 'BRAND'),\n",
       " (112, '3074', '0'),\n",
       " (113, 'Sandaalit', '0'),\n",
       " (113, 'Pikolinos', 'BRAND'),\n",
       " (113, 'ALGAR', '0'),\n",
       " (113, 'W0X', '0'),\n",
       " (114, 'Kengät', '0'),\n",
       " (114, 'Les', 'BRAND'),\n",
       " (114, 'Tropéziennes', 'BRAND'),\n",
       " (114, 'par', 'BRAND'),\n",
       " (114, 'M', 'BRAND'),\n",
       " (114, 'Belarbi', 'BRAND'),\n",
       " (114, 'AMELIE', '0'),\n",
       " (115, 'Kengät', '0'),\n",
       " (115, 'Everlast', 'BRAND'),\n",
       " (115, 'EVL', '0'),\n",
       " (115, 'SHADOW', '0'),\n",
       " (115, 'MID', '0'),\n",
       " (116, 'Farah', 'BRAND'),\n",
       " (116, 'Aurinkolasit', '0'),\n",
       " (116, 'FHS', '0'),\n",
       " (116, '5015', '0'),\n",
       " (116, '001', '0'),\n",
       " (117, 'Ceat', 'BRAND'),\n",
       " (117, 'Farmax', '0'),\n",
       " (117, 'R85', '0'),\n",
       " (117, '(', '0'),\n",
       " (117, '380/85', '0'),\n",
       " (117, 'R34', '0'),\n",
       " (117, '137A8', '0'),\n",
       " (117, 'TL', '0'),\n",
       " (117, 'kaksoistunnus', '0'),\n",
       " (117, '137B', '0'),\n",
       " (117, ')', '0'),\n",
       " (118, 'Diesel', 'BRAND'),\n",
       " (118, 'Silmälasit', '0'),\n",
       " (118, 'DL5050', '0'),\n",
       " (118, 'B05', '0'),\n",
       " (119, 'Gi2', '0'),\n",
       " (119, 'DeJaVu', '0'),\n",
       " (119, 'Angel', '0'),\n",
       " (119, 'Viole', '0'),\n",
       " (119, 'JaVu', '0'),\n",
       " (119, 'Angel', '0'),\n",
       " (119, 'Violet', '0'),\n",
       " (120, 'Nonogarden', '0'),\n",
       " (120, 'T-shirts', '0'),\n",
       " (120, '&', '0'),\n",
       " (120, 'Tops', '0'),\n",
       " (120, 'Short-sleeved', '0'),\n",
       " (120, 'Sininen', '0'),\n",
       " (120, 'American', 'BRAND'),\n",
       " (120, 'Vintage', 'BRAND'),\n",
       " (121, 'Crewneck', '0'),\n",
       " (121, 'T-Shirt', '0'),\n",
       " (121, 'T-shirts', '0'),\n",
       " (121, 'Short-sleeved', '0'),\n",
       " (121, 'Valkoinen', '0'),\n",
       " (121, 'Champion', 'BRAND'),\n",
       " (122, 'Classic', '0'),\n",
       " (122, 'Chino', '0'),\n",
       " (122, 'Suoralahkeiset', '0'),\n",
       " (122, 'Housut', '0'),\n",
       " (122, 'Vaaleanpunainen', '0'),\n",
       " (122, 'GANT', 'BRAND'),\n",
       " (123, 'All', '0'),\n",
       " (123, 'About', '0'),\n",
       " (123, 'Shadow', '0'),\n",
       " (123, 'Single', '0'),\n",
       " (123, ',', '0'),\n",
       " (123, 'Purple', '0'),\n",
       " (123, 'Pumps', '0'),\n",
       " (123, 'Beauty', '0'),\n",
       " (123, 'WOMEN', '0'),\n",
       " (123, 'Makeup', '0'),\n",
       " (123, 'Eyes', '0'),\n",
       " (123, 'Eyeshadow', '0'),\n",
       " (123, '-', '0'),\n",
       " (123, 'Not', '0'),\n",
       " (123, 'Palettes', '0'),\n",
       " (123, 'Liila', '0'),\n",
       " (123, 'Clinique', 'BRAND'),\n",
       " (124, 'G12', '0'),\n",
       " (124, 'Titan', '0'),\n",
       " (124, 'Polarize', '0'),\n",
       " (124, 'tan', '0'),\n",
       " (124, 'Polarized', '0'),\n",
       " (125, 'Mitas', 'BRAND'),\n",
       " (125, 'TS06', '0'),\n",
       " (125, '(', '0'),\n",
       " (125, '6.50/80', '0'),\n",
       " (125, '-15', '0'),\n",
       " (125, '94A8', '0'),\n",
       " (125, '6PR', '0'),\n",
       " (125, 'TT', '0'),\n",
       " (125, 'kaksoistunnus', '0'),\n",
       " (125, '82A8', '0'),\n",
       " (125, ')', '0'),\n",
       " (126, 'Scoop', '0'),\n",
       " (126, 'Teepurkki', '0'),\n",
       " (126, 'Mittalusikall', '0'),\n",
       " (126, 'Teepurkki', '0'),\n",
       " (126, 'Mittalusikalla', '0'),\n",
       " (127, 'Lyhythihainen', '0'),\n",
       " (127, 't-paita', '0'),\n",
       " (127, 'adidas', 'BRAND'),\n",
       " (127, 'TREFOIL', '0'),\n",
       " (127, 'T-SHIRT', '0'),\n",
       " (128, 'Wool', '0'),\n",
       " (128, 'Slipper', '0'),\n",
       " (128, 'Infant', '0'),\n",
       " (128, 'Aamutossut', '0'),\n",
       " (128, 'Sisäkengät', '0'),\n",
       " (128, 'Harmaa', '0'),\n",
       " (128, 'Hummel', 'BRAND'),\n",
       " (129, 'Olkalaukut', '0'),\n",
       " (129, 'Desigual', 'BRAND'),\n",
       " (129, 'MEX', '0'),\n",
       " (129, 'KIEV', '0'),\n",
       " (129, 'MINI', '0'),\n",
       " (130, 'Mitas', 'BRAND'),\n",
       " (130, 'FL08', '0'),\n",
       " (130, '(', '0'),\n",
       " (130, '18x7.00', '0'),\n",
       " (130, '-8', '0'),\n",
       " (130, '121A5', '0'),\n",
       " (130, '14PR', '0'),\n",
       " (130, 'TT', '0'),\n",
       " (130, 'NHS', '0'),\n",
       " (130, ')', '0'),\n",
       " (131, 'Mid', '0'),\n",
       " (131, 'Rise', '0'),\n",
       " (131, 'True', '0'),\n",
       " (131, 'Skinny', '0'),\n",
       " (131, 'Jeans', '0'),\n",
       " (131, 'Skinny', '0'),\n",
       " (131, 'Farkut', '0'),\n",
       " (131, 'Sininen', '0'),\n",
       " (131, 'GAP', 'BRAND'),\n",
       " (132, 'Metsästäjän', '0'),\n",
       " (132, 'Sukat', '0'),\n",
       " (132, '37-3', '0'),\n",
       " (132, 'stäjän', '0'),\n",
       " (132, 'Sukat', '0'),\n",
       " (132, '37-39', '0'),\n",
       " (133, 'Aromatics', '0'),\n",
       " (133, 'Elixir', '0'),\n",
       " (133, ',', '0'),\n",
       " (133, 'Perfume', '0'),\n",
       " (133, 'Spray', '0'),\n",
       " (133, '25m', '0'),\n",
       " (133, 'cs', '0'),\n",
       " (133, 'Elixir', '0'),\n",
       " (133, ',', '0'),\n",
       " ...]"
      ]
     },
     "execution_count": 74,
     "metadata": {},
     "output_type": "execute_result"
    }
   ],
   "source": [
    "data=[]\n",
    "for i  in range(df_o.shape[0]):\n",
    "    data.extend(branding(df_o.iloc[i],i+1))\n",
    "    \n",
    "data"
   ]
  },
  {
   "cell_type": "code",
   "execution_count": 78,
   "metadata": {
    "ExecuteTime": {
     "end_time": "2020-10-23T08:47:44.302614Z",
     "start_time": "2020-10-23T08:47:33.682850Z"
    }
   },
   "outputs": [],
   "source": [
    "dff=pd.DataFrame(data,columns=['title#','word','tag'])"
   ]
  },
  {
   "cell_type": "code",
   "execution_count": 79,
   "metadata": {
    "ExecuteTime": {
     "end_time": "2020-10-23T08:48:10.597767Z",
     "start_time": "2020-10-23T08:47:54.432282Z"
    }
   },
   "outputs": [],
   "source": [
    "dff.to_csv('brand_data.csv',index=False)"
   ]
  },
  {
   "cell_type": "code",
   "execution_count": 80,
   "metadata": {
    "ExecuteTime": {
     "end_time": "2020-10-23T08:48:27.135582Z",
     "start_time": "2020-10-23T08:48:25.020370Z"
    }
   },
   "outputs": [],
   "source": [
    "fg=pd.read_csv('brand_data.csv')"
   ]
  },
  {
   "cell_type": "code",
   "execution_count": null,
   "metadata": {
    "ExecuteTime": {
     "end_time": "2020-10-13T05:51:47.246118Z",
     "start_time": "2020-10-13T05:51:47.200437Z"
    },
    "id": "nysOSqOE8gYC",
    "outputId": "25866e95-654d-4cac-d2de-b3e754374a85"
   },
   "outputs": [
    {
     "data": {
      "text/plain": [
       "119"
      ]
     },
     "execution_count": 3,
     "metadata": {
      "tags": []
     },
     "output_type": "execute_result"
    }
   ],
   "source": [
    "# Unique providers (a.k.a the amount of different forms of title, description & meta)\n",
    "df.provider.nunique()"
   ]
  },
  {
   "cell_type": "code",
   "execution_count": null,
   "metadata": {
    "ExecuteTime": {
     "end_time": "2020-10-13T05:51:47.468642Z",
     "start_time": "2020-10-13T05:51:47.250801Z"
    },
    "id": "vvNRQM228gYM",
    "outputId": "af794232-d0a1-4d28-bd2a-16f82a1c872b",
    "scrolled": true
   },
   "outputs": [
    {
     "name": "stdout",
     "output_type": "stream",
     "text": [
      "<class 'pandas.core.frame.DataFrame'>\n",
      "RangeIndex: 671621 entries, 0 to 671620\n",
      "Data columns (total 8 columns):\n",
      " #   Column             Non-Null Count   Dtype  \n",
      "---  ------             --------------   -----  \n",
      " 0   title              671621 non-null  object \n",
      " 1   description        575419 non-null  object \n",
      " 2   summary            142541 non-null  object \n",
      " 3   brand              671621 non-null  object \n",
      " 4   price              671621 non-null  float64\n",
      " 5   meta               447017 non-null  object \n",
      " 6   provider_category  671621 non-null  object \n",
      " 7   provider           671621 non-null  object \n",
      "dtypes: float64(1), object(7)\n",
      "memory usage: 41.0+ MB\n"
     ]
    }
   ],
   "source": [
    "# We can see that each row contains at least title and majority contains some sort of description. \n",
    "# meta-col is already extracted information and can help on regognizing entities from title & description\n",
    "df.info()"
   ]
  },
  {
   "cell_type": "code",
   "execution_count": null,
   "metadata": {
    "ExecuteTime": {
     "end_time": "2020-10-17T04:42:49.527240Z",
     "start_time": "2020-10-17T04:42:47.693489Z"
    },
    "id": "6G90G1YO8gYU"
   },
   "outputs": [],
   "source": [
    "df=df_o.drop('description',axis=1)"
   ]
  },
  {
   "cell_type": "code",
   "execution_count": null,
   "metadata": {
    "ExecuteTime": {
     "end_time": "2020-10-16T17:17:25.865421Z",
     "start_time": "2020-10-16T17:17:25.853795Z"
    },
    "id": "dIHHa6GF8gYb",
    "outputId": "a6493b16-15a0-4b00-c6b5-b64cbdc0d99b"
   },
   "outputs": [
    {
     "data": {
      "text/plain": [
       "(100, 1)"
      ]
     },
     "execution_count": 85,
     "metadata": {
      "tags": []
     },
     "output_type": "execute_result"
    }
   ],
   "source": [
    "df.shape"
   ]
  },
  {
   "cell_type": "code",
   "execution_count": null,
   "metadata": {
    "ExecuteTime": {
     "end_time": "2020-10-16T17:17:26.860443Z",
     "start_time": "2020-10-16T17:17:26.850492Z"
    },
    "id": "tVb2WMrn8gYf",
    "outputId": "6f25da4f-57e2-4c94-80a7-ec0b7115b7bd"
   },
   "outputs": [
    {
     "data": {
      "text/html": [
       "<div>\n",
       "<style scoped>\n",
       "    .dataframe tbody tr th:only-of-type {\n",
       "        vertical-align: middle;\n",
       "    }\n",
       "\n",
       "    .dataframe tbody tr th {\n",
       "        vertical-align: top;\n",
       "    }\n",
       "\n",
       "    .dataframe thead th {\n",
       "        text-align: right;\n",
       "    }\n",
       "</style>\n",
       "<table border=\"1\" class=\"dataframe\">\n",
       "  <thead>\n",
       "    <tr style=\"text-align: right;\">\n",
       "      <th></th>\n",
       "      <th>title</th>\n",
       "    </tr>\n",
       "  </thead>\n",
       "  <tbody>\n",
       "    <tr>\n",
       "      <th>0</th>\n",
       "      <td>adidas Originals - Superstar - Valkoinen - US 5,5</td>\n",
       "    </tr>\n",
       "    <tr>\n",
       "      <th>1</th>\n",
       "      <td>Sc-Erna Polvipituinen Hame Sininen Soyaconcept</td>\n",
       "    </tr>\n",
       "    <tr>\n",
       "      <th>2</th>\n",
       "      <td>Dana Buchman Silmälasit Taren CARAMEL TORTOISE</td>\n",
       "    </tr>\n",
       "    <tr>\n",
       "      <th>3</th>\n",
       "      <td>Active Sports Woven Shorts B Shortsit Musta PUMA</td>\n",
       "    </tr>\n",
       "    <tr>\n",
       "      <th>4</th>\n",
       "      <td>Renata Polvipituinen Hame Musta Fall Winter Sp...</td>\n",
       "    </tr>\n",
       "  </tbody>\n",
       "</table>\n",
       "</div>"
      ],
      "text/plain": [
       "                                               title\n",
       "0  adidas Originals - Superstar - Valkoinen - US 5,5\n",
       "1     Sc-Erna Polvipituinen Hame Sininen Soyaconcept\n",
       "2     Dana Buchman Silmälasit Taren CARAMEL TORTOISE\n",
       "3   Active Sports Woven Shorts B Shortsit Musta PUMA\n",
       "4  Renata Polvipituinen Hame Musta Fall Winter Sp..."
      ]
     },
     "execution_count": 86,
     "metadata": {
      "tags": []
     },
     "output_type": "execute_result"
    }
   ],
   "source": [
    "df.head()"
   ]
  },
  {
   "cell_type": "code",
   "execution_count": null,
   "metadata": {
    "ExecuteTime": {
     "end_time": "2020-10-16T16:56:39.063927Z",
     "start_time": "2020-10-16T16:56:36.686665Z"
    },
    "id": "tx6scEJv8gYl"
   },
   "outputs": [],
   "source": [
    "import numpy as np\n",
    "import pandas as pd\n",
    "import spacy\n",
    "from spacy.pipeline import EntityRuler"
   ]
  },
  {
   "cell_type": "code",
   "execution_count": null,
   "metadata": {
    "ExecuteTime": {
     "end_time": "2020-10-16T17:12:28.027528Z",
     "start_time": "2020-10-16T17:12:26.935252Z"
    },
    "id": "09dqAP_V8gYp",
    "outputId": "bc37503b-e530-46f4-84d1-0b5423af5678"
   },
   "outputs": [
    {
     "data": {
      "text/plain": [
       "['tagger', 'parser', 'ner']"
      ]
     },
     "execution_count": 72,
     "metadata": {
      "tags": []
     },
     "output_type": "execute_result"
    }
   ],
   "source": [
    "nlp = spacy.load('en_core_web_sm')\n",
    "nlp.pipe_names"
   ]
  },
  {
   "cell_type": "code",
   "execution_count": null,
   "metadata": {
    "ExecuteTime": {
     "end_time": "2020-10-17T04:02:25.612885Z",
     "start_time": "2020-10-17T04:02:21.925210Z"
    },
    "id": "V8gGOlVI8gYy"
   },
   "outputs": [],
   "source": [
    "# \n",
    "titles=[]\n",
    "t_order=0\n",
    "for t in df.title:\n",
    "    t_order +=1\n",
    "    \n",
    "# text = 'He has been prescribed ipratropium-albuterol a small dose of 20mg, denzapine and amil-co'\n",
    "    doc = nlp(t)\n",
    "    temp=[(t_order,e.text, e.ent_iob_, e.ent_type_) for e in doc]\n",
    "    titles.extend(temp)\n",
    "df_new=pd.DataFrame(titles)\n",
    "# for ent in doc.ents:\n",
    "#     print(ent.text, ent.start_char, ent.end_char, ent.label_)"
   ]
  },
  {
   "cell_type": "code",
   "execution_count": null,
   "metadata": {
    "ExecuteTime": {
     "end_time": "2020-10-17T04:02:58.803460Z",
     "start_time": "2020-10-17T04:02:58.751916Z"
    },
    "id": "2tRyxcmm8gY3",
    "outputId": "04103d53-2ce0-4bd1-c113-111da238bee6"
   },
   "outputs": [
    {
     "data": {
      "text/html": [
       "<div>\n",
       "<style scoped>\n",
       "    .dataframe tbody tr th:only-of-type {\n",
       "        vertical-align: middle;\n",
       "    }\n",
       "\n",
       "    .dataframe tbody tr th {\n",
       "        vertical-align: top;\n",
       "    }\n",
       "\n",
       "    .dataframe thead th {\n",
       "        text-align: right;\n",
       "    }\n",
       "</style>\n",
       "<table border=\"1\" class=\"dataframe\">\n",
       "  <thead>\n",
       "    <tr style=\"text-align: right;\">\n",
       "      <th></th>\n",
       "      <th>0</th>\n",
       "      <th>1</th>\n",
       "      <th>2</th>\n",
       "      <th>3</th>\n",
       "    </tr>\n",
       "  </thead>\n",
       "  <tbody>\n",
       "    <tr>\n",
       "      <th>0</th>\n",
       "      <td>1</td>\n",
       "      <td>adidas</td>\n",
       "      <td>O</td>\n",
       "      <td></td>\n",
       "    </tr>\n",
       "    <tr>\n",
       "      <th>1</th>\n",
       "      <td>1</td>\n",
       "      <td>Originals</td>\n",
       "      <td>O</td>\n",
       "      <td></td>\n",
       "    </tr>\n",
       "    <tr>\n",
       "      <th>2</th>\n",
       "      <td>1</td>\n",
       "      <td>-</td>\n",
       "      <td>O</td>\n",
       "      <td></td>\n",
       "    </tr>\n",
       "    <tr>\n",
       "      <th>3</th>\n",
       "      <td>1</td>\n",
       "      <td>Superstar</td>\n",
       "      <td>O</td>\n",
       "      <td></td>\n",
       "    </tr>\n",
       "    <tr>\n",
       "      <th>4</th>\n",
       "      <td>1</td>\n",
       "      <td>-</td>\n",
       "      <td>O</td>\n",
       "      <td></td>\n",
       "    </tr>\n",
       "    <tr>\n",
       "      <th>...</th>\n",
       "      <td>...</td>\n",
       "      <td>...</td>\n",
       "      <td>...</td>\n",
       "      <td>...</td>\n",
       "    </tr>\n",
       "    <tr>\n",
       "      <th>653</th>\n",
       "      <td>100</td>\n",
       "      <td>SPL997</td>\n",
       "      <td>I</td>\n",
       "      <td>ORG</td>\n",
       "    </tr>\n",
       "    <tr>\n",
       "      <th>654</th>\n",
       "      <td>100</td>\n",
       "      <td>ORIGINS</td>\n",
       "      <td>I</td>\n",
       "      <td>ORG</td>\n",
       "    </tr>\n",
       "    <tr>\n",
       "      <th>655</th>\n",
       "      <td>100</td>\n",
       "      <td>LITE</td>\n",
       "      <td>I</td>\n",
       "      <td>ORG</td>\n",
       "    </tr>\n",
       "    <tr>\n",
       "      <th>656</th>\n",
       "      <td>100</td>\n",
       "      <td>3</td>\n",
       "      <td>B</td>\n",
       "      <td>DATE</td>\n",
       "    </tr>\n",
       "    <tr>\n",
       "      <th>657</th>\n",
       "      <td>100</td>\n",
       "      <td>0722</td>\n",
       "      <td>I</td>\n",
       "      <td>DATE</td>\n",
       "    </tr>\n",
       "  </tbody>\n",
       "</table>\n",
       "<p>658 rows × 4 columns</p>\n",
       "</div>"
      ],
      "text/plain": [
       "       0          1  2     3\n",
       "0      1     adidas  O      \n",
       "1      1  Originals  O      \n",
       "2      1          -  O      \n",
       "3      1  Superstar  O      \n",
       "4      1          -  O      \n",
       "..   ...        ... ..   ...\n",
       "653  100     SPL997  I   ORG\n",
       "654  100    ORIGINS  I   ORG\n",
       "655  100       LITE  I   ORG\n",
       "656  100          3  B  DATE\n",
       "657  100       0722  I  DATE\n",
       "\n",
       "[658 rows x 4 columns]"
      ]
     },
     "execution_count": 137,
     "metadata": {
      "tags": []
     },
     "output_type": "execute_result"
    }
   ],
   "source": [
    "df_new"
   ]
  },
  {
   "cell_type": "code",
   "execution_count": null,
   "metadata": {
    "id": "c9lLKULt8gY9"
   },
   "outputs": [],
   "source": []
  },
  {
   "cell_type": "code",
   "execution_count": null,
   "metadata": {
    "ExecuteTime": {
     "end_time": "2020-10-17T04:03:07.934020Z",
     "start_time": "2020-10-17T04:03:07.875180Z"
    },
    "id": "lKWgwMd38gZF",
    "scrolled": true
   },
   "outputs": [],
   "source": [
    "df_new[2]=df_new[2]+'-'+df_new[3]"
   ]
  },
  {
   "cell_type": "code",
   "execution_count": null,
   "metadata": {
    "ExecuteTime": {
     "end_time": "2020-10-17T04:03:10.386320Z",
     "start_time": "2020-10-17T04:03:10.340834Z"
    },
    "id": "gwWBwNeL8gZO"
   },
   "outputs": [],
   "source": [
    "df_new[2]=df_new[2].str.replace('O-','O')"
   ]
  },
  {
   "cell_type": "code",
   "execution_count": null,
   "metadata": {
    "ExecuteTime": {
     "end_time": "2020-10-17T04:03:12.687122Z",
     "start_time": "2020-10-17T04:03:12.662905Z"
    },
    "id": "flGA4fIn8gZT"
   },
   "outputs": [],
   "source": [
    "df_new.drop(3,inplace=True,axis=1)"
   ]
  },
  {
   "cell_type": "code",
   "execution_count": null,
   "metadata": {
    "ExecuteTime": {
     "end_time": "2020-10-17T04:03:14.714496Z",
     "start_time": "2020-10-17T04:03:14.700001Z"
    },
    "id": "j31zYKsp8gZV"
   },
   "outputs": [],
   "source": [
    "df_new.columns=['title#','word','tag']\n"
   ]
  },
  {
   "cell_type": "code",
   "execution_count": null,
   "metadata": {
    "ExecuteTime": {
     "end_time": "2020-10-17T04:03:16.311330Z",
     "start_time": "2020-10-17T04:03:16.272630Z"
    },
    "id": "BSMMHHWu8gZf",
    "outputId": "bb4fef8b-edea-4e72-e426-baebb59d36c8",
    "scrolled": true
   },
   "outputs": [
    {
     "data": {
      "text/html": [
       "<div>\n",
       "<style scoped>\n",
       "    .dataframe tbody tr th:only-of-type {\n",
       "        vertical-align: middle;\n",
       "    }\n",
       "\n",
       "    .dataframe tbody tr th {\n",
       "        vertical-align: top;\n",
       "    }\n",
       "\n",
       "    .dataframe thead th {\n",
       "        text-align: right;\n",
       "    }\n",
       "</style>\n",
       "<table border=\"1\" class=\"dataframe\">\n",
       "  <thead>\n",
       "    <tr style=\"text-align: right;\">\n",
       "      <th></th>\n",
       "      <th>title#</th>\n",
       "      <th>word</th>\n",
       "      <th>tag</th>\n",
       "    </tr>\n",
       "  </thead>\n",
       "  <tbody>\n",
       "    <tr>\n",
       "      <th>0</th>\n",
       "      <td>1</td>\n",
       "      <td>adidas</td>\n",
       "      <td>O</td>\n",
       "    </tr>\n",
       "    <tr>\n",
       "      <th>1</th>\n",
       "      <td>1</td>\n",
       "      <td>Originals</td>\n",
       "      <td>O</td>\n",
       "    </tr>\n",
       "    <tr>\n",
       "      <th>2</th>\n",
       "      <td>1</td>\n",
       "      <td>-</td>\n",
       "      <td>O</td>\n",
       "    </tr>\n",
       "    <tr>\n",
       "      <th>3</th>\n",
       "      <td>1</td>\n",
       "      <td>Superstar</td>\n",
       "      <td>O</td>\n",
       "    </tr>\n",
       "    <tr>\n",
       "      <th>4</th>\n",
       "      <td>1</td>\n",
       "      <td>-</td>\n",
       "      <td>O</td>\n",
       "    </tr>\n",
       "    <tr>\n",
       "      <th>...</th>\n",
       "      <td>...</td>\n",
       "      <td>...</td>\n",
       "      <td>...</td>\n",
       "    </tr>\n",
       "    <tr>\n",
       "      <th>653</th>\n",
       "      <td>100</td>\n",
       "      <td>SPL997</td>\n",
       "      <td>I-ORG</td>\n",
       "    </tr>\n",
       "    <tr>\n",
       "      <th>654</th>\n",
       "      <td>100</td>\n",
       "      <td>ORIGINS</td>\n",
       "      <td>I-ORG</td>\n",
       "    </tr>\n",
       "    <tr>\n",
       "      <th>655</th>\n",
       "      <td>100</td>\n",
       "      <td>LITE</td>\n",
       "      <td>I-ORG</td>\n",
       "    </tr>\n",
       "    <tr>\n",
       "      <th>656</th>\n",
       "      <td>100</td>\n",
       "      <td>3</td>\n",
       "      <td>B-DATE</td>\n",
       "    </tr>\n",
       "    <tr>\n",
       "      <th>657</th>\n",
       "      <td>100</td>\n",
       "      <td>0722</td>\n",
       "      <td>I-DATE</td>\n",
       "    </tr>\n",
       "  </tbody>\n",
       "</table>\n",
       "<p>658 rows × 3 columns</p>\n",
       "</div>"
      ],
      "text/plain": [
       "     title#       word     tag\n",
       "0         1     adidas       O\n",
       "1         1  Originals       O\n",
       "2         1          -       O\n",
       "3         1  Superstar       O\n",
       "4         1          -       O\n",
       "..      ...        ...     ...\n",
       "653     100     SPL997   I-ORG\n",
       "654     100    ORIGINS   I-ORG\n",
       "655     100       LITE   I-ORG\n",
       "656     100          3  B-DATE\n",
       "657     100       0722  I-DATE\n",
       "\n",
       "[658 rows x 3 columns]"
      ]
     },
     "execution_count": 142,
     "metadata": {
      "tags": []
     },
     "output_type": "execute_result"
    }
   ],
   "source": [
    "df_new"
   ]
  },
  {
   "cell_type": "code",
   "execution_count": null,
   "metadata": {
    "ExecuteTime": {
     "end_time": "2020-10-17T04:04:30.647886Z",
     "start_time": "2020-10-17T04:04:30.442337Z"
    },
    "colab": {
     "base_uri": "https://localhost:8080/",
     "height": 33
    },
    "executionInfo": {
     "elapsed": 913,
     "status": "ok",
     "timestamp": 1602945767930,
     "user": {
      "displayName": "Yu Tian",
      "photoUrl": "",
      "userId": "08466120098552862127"
     },
     "user_tz": -180
    },
    "id": "57bnbzBX8gZj",
    "outputId": "7b568ae4-48a4-41b6-fc66-4bf4379dcd8a"
   },
   "outputs": [
    {
     "name": "stdout",
     "output_type": "stream",
     "text": [
      "/content\n"
     ]
    }
   ],
   "source": [
    "!pwd"
   ]
  },
  {
   "cell_type": "markdown",
   "metadata": {
    "id": "GKixIjyU8gar"
   },
   "source": [
    "# Examples (a.k.a the preferred extracted data)"
   ]
  },
  {
   "cell_type": "code",
   "execution_count": null,
   "metadata": {
    "ExecuteTime": {
     "end_time": "2020-10-17T07:21:21.350672Z",
     "start_time": "2020-10-17T07:21:21.342935Z"
    },
    "id": "k_t4mKbZ8gas",
    "outputId": "b4da6bfd-ae71-42d0-f0dd-982f99900e6b"
   },
   "outputs": [
    {
     "name": "stdout",
     "output_type": "stream",
     "text": [
      "title: Police Aurinkolasit SPL997 ORIGINS LITE 3 0722\n",
      "summary: nan\n",
      "brand: Police\n",
      "price: 94.0\n",
      "meta: {\"SIZE\": [\"53\"], \"COLOR\": [\"dark havana\"], \"GENDER\": [\"male\"], \"AGE_GROUP\": [\"adult\"]}\n",
      "provider_category: 13-silmalasit-ja-piilolinssit\n",
      "provider: Smartbuy Glasses\n"
     ]
    }
   ],
   "source": [
    "# `SIZE`: 0,95  litraa\n",
    "# `COLOR`: Punainen\n",
    "print_row_data(df, 99)"
   ]
  },
  {
   "cell_type": "code",
   "execution_count": null,
   "metadata": {
    "id": "Rv_AUOzn8gax"
   },
   "outputs": [],
   "source": []
  },
  {
   "cell_type": "code",
   "execution_count": null,
   "metadata": {
    "id": "7CVmX-8w8ga5"
   },
   "outputs": [],
   "source": []
  },
  {
   "cell_type": "code",
   "execution_count": null,
   "metadata": {
    "id": "W5m5iX078ga7"
   },
   "outputs": [],
   "source": []
  },
  {
   "cell_type": "code",
   "execution_count": null,
   "metadata": {
    "id": "0cORVsuZ8ga9"
   },
   "outputs": [],
   "source": []
  },
  {
   "cell_type": "code",
   "execution_count": null,
   "metadata": {
    "ExecuteTime": {
     "end_time": "2020-10-13T05:51:47.514299Z",
     "start_time": "2020-10-13T05:51:47.497500Z"
    },
    "id": "KeJe_IJE8gbE",
    "outputId": "d57a8467-a664-4ee3-8dd9-eb946bdb8ad0"
   },
   "outputs": [
    {
     "name": "stdout",
     "output_type": "stream",
     "text": [
      "title: RICH Pure Luxury Volumising Shampoo 250ml\n",
      "description: RICH Pure Luxury Volumising Shampoo 250ml\n",
      "summary: nan\n",
      "brand: Rich Haircare\n",
      "price: 14.95\n",
      "meta: nan\n",
      "provider_category: 06-kauneus-ja-terveys\n",
      "provider: Hiusverkko\n"
     ]
    }
   ],
   "source": [
    "# `SIZE`: 250ml\n",
    "print_row_data(df, 100200)"
   ]
  },
  {
   "cell_type": "code",
   "execution_count": null,
   "metadata": {
    "ExecuteTime": {
     "end_time": "2020-10-13T05:51:47.551446Z",
     "start_time": "2020-10-13T05:51:47.532940Z"
    },
    "id": "Njt1gNFf8gbR",
    "outputId": "fb983b04-06d3-44e7-84b0-1c0e979edddc"
   },
   "outputs": [
    {
     "name": "stdout",
     "output_type": "stream",
     "text": [
      "title: Age Reverse HydraFirm 50g\n",
      "description: nan\n",
      "summary: nan\n",
      "brand: Exuviance\n",
      "price: 59.95\n",
      "meta: nan\n",
      "provider_category: 06-kauneus-ja-terveys\n",
      "provider: Hajuvesi.fi\n"
     ]
    }
   ],
   "source": [
    "# `SIZE`: 50g\n",
    "print_row_data(df, 2541)"
   ]
  },
  {
   "cell_type": "code",
   "execution_count": null,
   "metadata": {
    "ExecuteTime": {
     "end_time": "2020-10-13T05:51:47.584298Z",
     "start_time": "2020-10-13T05:51:47.569263Z"
    },
    "id": "O5RL2opc8gbd",
    "outputId": "a7f59520-099a-4618-f75d-391e5d01ebd0"
   },
   "outputs": [
    {
     "name": "stdout",
     "output_type": "stream",
     "text": [
      "title: Arche Hatcho Misotahna 300g\n",
      "description: Voimakas Arche Hatcho Miso 300g on pastöroimaton soijapapupohjainen misotahna, joka tuo täyteläistä makua kastikkeisiin, pihveihin, juuresruokiin ja keittoihin. Käytännöllinen ruuvikorkki.Arche on tarjonnut jo 30 vuotta kevyttä ruokaa aasialaisen keittiön ystäville, vegaaneille, makrobioottista tai ayurvedista ruokavaliota noudattaville. Archen tuotteet sopivat kaikille pitkää ikää ja planeetan hyvinvointia tavoitteleville. Archen valikoimaan kuuluu niin aasialaisen kuin eurooppalaisenkin keittiön erikoisuuksia luonnonmukaisesti tuotettuina. Archen tuotteet ovat maistuvia, laadukkaita, 100% vegaanisia ja turvallisia. Archen tuotteet eivät sisällä tarpeettomia lisäaineita, kuten arominvahventeita, keinotekoisia värejä, emulgointiaineita, hydrattuja rasvoja tai valkoista sokeria.Ainesosat : soija papu*, vesi, merisuola, paahdettu ohra jauho*, Aspergillus oryzae. *=luomu Alkuperämaa : JapaniRavintosisältö per 100 g Energiaa 1028 kJ / 246 kcal Rasvaa 11,8 g - josta tyydyttynyttä 2,1 g Hiilihydraatteja 7,3 g - joista sokereita 0,8 g Proteiinia 23,4 g Suolaa 8,8 g\n",
      "summary: Voimakkaan makuinen Archen Hatcho Miso on valmistettu soijapavuista ja hippusesta paahdettua ohraa.\n",
      "brand: Arche\n",
      "price: 6.5\n",
      "meta: nan\n",
      "provider_category: 12-ruoka-juoma-ja-tupakka\n",
      "provider: Helsingin Ekotukku\n"
     ]
    }
   ],
   "source": [
    "# `BRAND`: Arche\n",
    "# `SIZE`: 300g\n",
    "print_row_data(df, 451607)"
   ]
  },
  {
   "cell_type": "code",
   "execution_count": null,
   "metadata": {
    "ExecuteTime": {
     "end_time": "2020-10-13T05:51:47.615423Z",
     "start_time": "2020-10-13T05:51:47.602412Z"
    },
    "id": "qLWTocnX8gbq",
    "outputId": "9018a19a-cdbc-4bb6-a334-d8dc5d97adec"
   },
   "outputs": [
    {
     "name": "stdout",
     "output_type": "stream",
     "text": [
      "title: SmartBuy Collection Silmälasit Betty CP146C\n",
      "description: SmartBuy Collection Betty Silmälasit. Collection:Men. Kehyksen Väri: Brown. Kehysmateriaali: Plastic. Koko: 50.\n",
      "summary: nan\n",
      "brand: SmartBuy Collection\n",
      "price: 25.0\n",
      "meta: {\"SIZE\": [\"50\"], \"COLOR\": [\"brown\"], \"GENDER\": [\"male\"], \"AGE_GROUP\": [\"adult\"]}\n",
      "provider_category: 13-silmalasit-ja-piilolinssit\n",
      "provider: Smartbuy Glasses\n"
     ]
    }
   ],
   "source": [
    "# `GENDER`: Men\n",
    "# `COLOR`: Brown\n",
    "# `MATERIAL`: Plastic\n",
    "# `SIZE`: 50\n",
    "print_row_data(df, 9101)"
   ]
  },
  {
   "cell_type": "code",
   "execution_count": null,
   "metadata": {
    "ExecuteTime": {
     "end_time": "2020-10-16T16:37:27.349186Z",
     "start_time": "2020-10-16T16:37:27.322148Z"
    },
    "id": "geQHVDPb8gbs",
    "outputId": "05f25fd6-6191-479d-96de-8f6d73ccd59f"
   },
   "outputs": [
    {
     "data": {
      "text/plain": [
       "'!\"#$%&\\'()*+,-./:;<=>?@[\\\\]^_`{|}~'"
      ]
     },
     "execution_count": 34,
     "metadata": {
      "tags": []
     },
     "output_type": "execute_result"
    }
   ],
   "source": [
    "# [!”#$%&’()*+,-./:;<=>?@[\\]^_`{|}~]\n",
    "import string\n",
    "string.punctuation"
   ]
  },
  {
   "cell_type": "code",
   "execution_count": null,
   "metadata": {
    "ExecuteTime": {
     "end_time": "2020-10-17T07:42:50.303269Z",
     "start_time": "2020-10-17T07:42:50.293382Z"
    },
    "id": "GXZY9QRX8gbu",
    "outputId": "10ba12cc-0f0c-4b34-9988-0845c9044153"
   },
   "outputs": [
    {
     "name": "stdout",
     "output_type": "stream",
     "text": [
      "This is [an] example {of} string. with. punctuation\n"
     ]
    }
   ],
   "source": [
    "input_str = 'This &is [an] example? {of} string. with.? punctuation!!!!' # Sample string\n",
    "# input_str='she is , J ?! []'\n",
    "result = input_str.translate(str.maketrans('','','?!&'))\n",
    "print(result)\n",
    "# PUNCT_TO_REMOVE = string.punctuation\n",
    "# def remove_punctuation(text):\n",
    "#     \"\"\"custom function to remove the punctuation\"\"\"\n",
    "#     return text.translate(str.maketrans('', '', PUNCT_TO_REMOVE))\n",
    "\n",
    "# df[\"text_wo_punct\"] = df[\"text\"].apply(lambda text: remove_punctuation(text))\n",
    "# df.head()"
   ]
  },
  {
   "cell_type": "code",
   "execution_count": null,
   "metadata": {
    "ExecuteTime": {
     "end_time": "2020-10-17T08:25:15.706123Z",
     "start_time": "2020-10-17T08:25:15.654351Z"
    },
    "id": "a1xYuk0D8gb1"
   },
   "outputs": [],
   "source": [
    "DF=pd.read_csv('input/entity_dataset.csv',sep=';',encoding='latin-1')"
   ]
  },
  {
   "cell_type": "code",
   "execution_count": 32,
   "metadata": {
    "ExecuteTime": {
     "end_time": "2020-10-23T08:10:18.482867Z",
     "start_time": "2020-10-23T08:10:15.311203Z"
    },
    "id": "QAeUMc5K8gb5",
    "outputId": "46edad36-343a-4aa2-8ad1-ce0214f7c481"
   },
   "outputs": [],
   "source": [
    "from nltk import word_tokenize\n",
    "\n",
    "\n",
    "def labeling(label, string_chunk):\n",
    "    return [(word, label) for word in word_tokenize(string_chunk)]"
   ]
  },
  {
   "cell_type": "code",
   "execution_count": 34,
   "metadata": {
    "ExecuteTime": {
     "end_time": "2020-10-23T08:10:56.128607Z",
     "start_time": "2020-10-23T08:10:56.118379Z"
    }
   },
   "outputs": [
    {
     "data": {
      "text/plain": [
       "[('nice', [1, 2]), ('boy', [1, 2])]"
      ]
     },
     "execution_count": 34,
     "metadata": {},
     "output_type": "execute_result"
    }
   ],
   "source": [
    "labeling([1,2],'nice boy')"
   ]
  },
  {
   "cell_type": "code",
   "execution_count": null,
   "metadata": {},
   "outputs": [],
   "source": []
  }
 ],
 "metadata": {
  "accelerator": "GPU",
  "colab": {
   "collapsed_sections": [
    "GKixIjyU8gar"
   ],
   "name": "Integrify NER.ipynb",
   "provenance": []
  },
  "kernelspec": {
   "display_name": "Python 3",
   "language": "python",
   "name": "python3"
  },
  "language_info": {
   "codemirror_mode": {
    "name": "ipython",
    "version": 3
   },
   "file_extension": ".py",
   "mimetype": "text/x-python",
   "name": "python",
   "nbconvert_exporter": "python",
   "pygments_lexer": "ipython3",
   "version": "3.7.6"
  },
  "latex_envs": {
   "LaTeX_envs_menu_present": true,
   "autoclose": false,
   "autocomplete": true,
   "bibliofile": "biblio.bib",
   "cite_by": "apalike",
   "current_citInitial": 1,
   "eqLabelWithNumbers": true,
   "eqNumInitial": 1,
   "hotkeys": {
    "equation": "Ctrl-E",
    "itemize": "Ctrl-I"
   },
   "labels_anchors": false,
   "latex_user_defs": false,
   "report_style_numbering": false,
   "user_envs_cfg": false
  },
  "toc": {
   "base_numbering": 1,
   "nav_menu": {},
   "number_sections": true,
   "sideBar": true,
   "skip_h1_title": false,
   "title_cell": "Table of Contents",
   "title_sidebar": "Contents",
   "toc_cell": false,
   "toc_position": {},
   "toc_section_display": true,
   "toc_window_display": false
  },
  "varInspector": {
   "cols": {
    "lenName": 16,
    "lenType": 16,
    "lenVar": 40
   },
   "kernels_config": {
    "python": {
     "delete_cmd_postfix": "",
     "delete_cmd_prefix": "del ",
     "library": "var_list.py",
     "varRefreshCmd": "print(var_dic_list())"
    },
    "r": {
     "delete_cmd_postfix": ") ",
     "delete_cmd_prefix": "rm(",
     "library": "var_list.r",
     "varRefreshCmd": "cat(var_dic_list()) "
    }
   },
   "types_to_exclude": [
    "module",
    "function",
    "builtin_function_or_method",
    "instance",
    "_Feature"
   ],
   "window_display": false
  },
  "widgets": {
   "application/vnd.jupyter.widget-state+json": {
    "24c0c3ce761345af8ff046366ec98aa2": {
     "model_module": "@jupyter-widgets/base",
     "model_name": "LayoutModel",
     "state": {
      "_model_module": "@jupyter-widgets/base",
      "_model_module_version": "1.2.0",
      "_model_name": "LayoutModel",
      "_view_count": null,
      "_view_module": "@jupyter-widgets/base",
      "_view_module_version": "1.2.0",
      "_view_name": "LayoutView",
      "align_content": null,
      "align_items": null,
      "align_self": null,
      "border": null,
      "bottom": null,
      "display": null,
      "flex": null,
      "flex_flow": null,
      "grid_area": null,
      "grid_auto_columns": null,
      "grid_auto_flow": null,
      "grid_auto_rows": null,
      "grid_column": null,
      "grid_gap": null,
      "grid_row": null,
      "grid_template_areas": null,
      "grid_template_columns": null,
      "grid_template_rows": null,
      "height": null,
      "justify_content": null,
      "justify_items": null,
      "left": null,
      "margin": null,
      "max_height": null,
      "max_width": null,
      "min_height": null,
      "min_width": null,
      "object_fit": null,
      "object_position": null,
      "order": null,
      "overflow": null,
      "overflow_x": null,
      "overflow_y": null,
      "padding": null,
      "right": null,
      "top": null,
      "visibility": null,
      "width": null
     }
    },
    "42f9156f47564c038edd9a5271d81601": {
     "model_module": "@jupyter-widgets/controls",
     "model_name": "FloatProgressModel",
     "state": {
      "_dom_classes": [],
      "_model_module": "@jupyter-widgets/controls",
      "_model_module_version": "1.5.0",
      "_model_name": "FloatProgressModel",
      "_view_count": null,
      "_view_module": "@jupyter-widgets/controls",
      "_view_module_version": "1.5.0",
      "_view_name": "ProgressView",
      "bar_style": "success",
      "description": "Downloading: 100%",
      "description_tooltip": null,
      "layout": "IPY_MODEL_efaa309dcdf94072be5bdfce5547e20a",
      "max": 427471,
      "min": 0,
      "orientation": "horizontal",
      "style": "IPY_MODEL_ac81cb63c45f403f9b033b3a1ca5c0fd",
      "value": 427471
     }
    },
    "58a8fdd895604f089f2aa3f9ba558027": {
     "model_module": "@jupyter-widgets/controls",
     "model_name": "HTMLModel",
     "state": {
      "_dom_classes": [],
      "_model_module": "@jupyter-widgets/controls",
      "_model_module_version": "1.5.0",
      "_model_name": "HTMLModel",
      "_view_count": null,
      "_view_module": "@jupyter-widgets/controls",
      "_view_module_version": "1.5.0",
      "_view_name": "HTMLView",
      "description": "",
      "description_tooltip": null,
      "layout": "IPY_MODEL_24c0c3ce761345af8ff046366ec98aa2",
      "placeholder": "​",
      "style": "IPY_MODEL_b944d050d1cf41c68ff0f02df25458f6",
      "value": " 427k/427k [00:00&lt;00:00, 1.08MB/s]"
     }
    },
    "7ae2deaa1d2c49b7858d82f4ab4989b4": {
     "model_module": "@jupyter-widgets/base",
     "model_name": "LayoutModel",
     "state": {
      "_model_module": "@jupyter-widgets/base",
      "_model_module_version": "1.2.0",
      "_model_name": "LayoutModel",
      "_view_count": null,
      "_view_module": "@jupyter-widgets/base",
      "_view_module_version": "1.2.0",
      "_view_name": "LayoutView",
      "align_content": null,
      "align_items": null,
      "align_self": null,
      "border": null,
      "bottom": null,
      "display": null,
      "flex": null,
      "flex_flow": null,
      "grid_area": null,
      "grid_auto_columns": null,
      "grid_auto_flow": null,
      "grid_auto_rows": null,
      "grid_column": null,
      "grid_gap": null,
      "grid_row": null,
      "grid_template_areas": null,
      "grid_template_columns": null,
      "grid_template_rows": null,
      "height": null,
      "justify_content": null,
      "justify_items": null,
      "left": null,
      "margin": null,
      "max_height": null,
      "max_width": null,
      "min_height": null,
      "min_width": null,
      "object_fit": null,
      "object_position": null,
      "order": null,
      "overflow": null,
      "overflow_x": null,
      "overflow_y": null,
      "padding": null,
      "right": null,
      "top": null,
      "visibility": null,
      "width": null
     }
    },
    "8c8f06046c094a9b85844d37422a92fe": {
     "model_module": "@jupyter-widgets/controls",
     "model_name": "HBoxModel",
     "state": {
      "_dom_classes": [],
      "_model_module": "@jupyter-widgets/controls",
      "_model_module_version": "1.5.0",
      "_model_name": "HBoxModel",
      "_view_count": null,
      "_view_module": "@jupyter-widgets/controls",
      "_view_module_version": "1.5.0",
      "_view_name": "HBoxView",
      "box_style": "",
      "children": [
       "IPY_MODEL_42f9156f47564c038edd9a5271d81601",
       "IPY_MODEL_58a8fdd895604f089f2aa3f9ba558027"
      ],
      "layout": "IPY_MODEL_7ae2deaa1d2c49b7858d82f4ab4989b4"
     }
    },
    "ac81cb63c45f403f9b033b3a1ca5c0fd": {
     "model_module": "@jupyter-widgets/controls",
     "model_name": "ProgressStyleModel",
     "state": {
      "_model_module": "@jupyter-widgets/controls",
      "_model_module_version": "1.5.0",
      "_model_name": "ProgressStyleModel",
      "_view_count": null,
      "_view_module": "@jupyter-widgets/base",
      "_view_module_version": "1.2.0",
      "_view_name": "StyleView",
      "bar_color": null,
      "description_width": "initial"
     }
    },
    "b944d050d1cf41c68ff0f02df25458f6": {
     "model_module": "@jupyter-widgets/controls",
     "model_name": "DescriptionStyleModel",
     "state": {
      "_model_module": "@jupyter-widgets/controls",
      "_model_module_version": "1.5.0",
      "_model_name": "DescriptionStyleModel",
      "_view_count": null,
      "_view_module": "@jupyter-widgets/base",
      "_view_module_version": "1.2.0",
      "_view_name": "StyleView",
      "description_width": ""
     }
    },
    "efaa309dcdf94072be5bdfce5547e20a": {
     "model_module": "@jupyter-widgets/base",
     "model_name": "LayoutModel",
     "state": {
      "_model_module": "@jupyter-widgets/base",
      "_model_module_version": "1.2.0",
      "_model_name": "LayoutModel",
      "_view_count": null,
      "_view_module": "@jupyter-widgets/base",
      "_view_module_version": "1.2.0",
      "_view_name": "LayoutView",
      "align_content": null,
      "align_items": null,
      "align_self": null,
      "border": null,
      "bottom": null,
      "display": null,
      "flex": null,
      "flex_flow": null,
      "grid_area": null,
      "grid_auto_columns": null,
      "grid_auto_flow": null,
      "grid_auto_rows": null,
      "grid_column": null,
      "grid_gap": null,
      "grid_row": null,
      "grid_template_areas": null,
      "grid_template_columns": null,
      "grid_template_rows": null,
      "height": null,
      "justify_content": null,
      "justify_items": null,
      "left": null,
      "margin": null,
      "max_height": null,
      "max_width": null,
      "min_height": null,
      "min_width": null,
      "object_fit": null,
      "object_position": null,
      "order": null,
      "overflow": null,
      "overflow_x": null,
      "overflow_y": null,
      "padding": null,
      "right": null,
      "top": null,
      "visibility": null,
      "width": null
     }
    }
   }
  }
 },
 "nbformat": 4,
 "nbformat_minor": 1
}
